{
 "cells": [
  {
   "cell_type": "markdown",
   "id": "ebf2e261",
   "metadata": {},
   "source": [
    "# Claim Prediction using Julia"
   ]
  },
  {
   "cell_type": "code",
   "execution_count": 1,
   "id": "5bbd892c",
   "metadata": {
    "ExecuteTime": {
     "end_time": "2022-07-16T00:26:37.967000+02:00",
     "start_time": "2022-07-15T22:26:03.283Z"
    }
   },
   "outputs": [],
   "source": [
    "using Flux, CSV, DataFrames, Statistics\n",
    "using Plots, MLJ, MLUtils, ClassImbalance\n",
    "using MLJ: partition\n",
    "using Flux: Dense, train!\n",
    "using ClassImbalance: smote"
   ]
  },
  {
   "cell_type": "markdown",
   "id": "48c578aa",
   "metadata": {},
   "source": [
    "We load Australian private auto insurance claim data from 2004, sourced from R's 'CASdatasets' package. Original reference: P. De Jong and G.Z. Heller (2008), Generalized linear models for insurance data, Cambridge University Press."
   ]
  },
  {
   "cell_type": "code",
   "execution_count": 2,
   "id": "f232cd60",
   "metadata": {
    "ExecuteTime": {
     "end_time": "2022-07-16T00:27:32.714000+02:00",
     "start_time": "2022-07-15T22:26:03.289Z"
    }
   },
   "outputs": [
    {
     "data": {
      "text/html": [
       "<div class=\"data-frame\"><p>67,856 rows × 9 columns (omitted printing of 3 columns)</p><table class=\"data-frame\"><thead><tr><th></th><th>Exposure</th><th>VehValue</th><th>VehAge</th><th>VehBody</th><th>Gender</th><th>DrivAge</th></tr><tr><th></th><th title=\"Float64\">Float64</th><th title=\"Float64\">Float64</th><th title=\"String15\">String15</th><th title=\"String31\">String31</th><th title=\"String7\">String7</th><th title=\"String31\">String31</th></tr></thead><tbody><tr><th>1</th><td>0.303901</td><td>1.06</td><td>old cars</td><td>Hatchback</td><td>Female</td><td>young people</td></tr><tr><th>2</th><td>0.648871</td><td>1.03</td><td>young cars</td><td>Hatchback</td><td>Female</td><td>older work. people</td></tr><tr><th>3</th><td>0.569473</td><td>3.26</td><td>young cars</td><td>Utility</td><td>Female</td><td>young people</td></tr><tr><th>4</th><td>0.317591</td><td>4.14</td><td>young cars</td><td>Station wagon</td><td>Female</td><td>young people</td></tr><tr><th>5</th><td>0.648871</td><td>0.72</td><td>oldest cars</td><td>Hatchback</td><td>Female</td><td>young people</td></tr><tr><th>6</th><td>0.854209</td><td>2.01</td><td>old cars</td><td>Hardtop</td><td>Male</td><td>older work. people</td></tr><tr><th>7</th><td>0.854209</td><td>1.6</td><td>old cars</td><td>Panel van</td><td>Male</td><td>older work. people</td></tr><tr><th>8</th><td>0.555784</td><td>1.47</td><td>young cars</td><td>Hatchback</td><td>Male</td><td>oldest people</td></tr><tr><th>9</th><td>0.361396</td><td>0.52</td><td>oldest cars</td><td>Hatchback</td><td>Female</td><td>working people</td></tr><tr><th>10</th><td>0.520192</td><td>0.38</td><td>oldest cars</td><td>Hatchback</td><td>Female</td><td>older work. people</td></tr><tr><th>11</th><td>0.854209</td><td>1.38</td><td>young cars</td><td>Hatchback</td><td>Male</td><td>young people</td></tr><tr><th>12</th><td>0.854209</td><td>1.22</td><td>old cars</td><td>Hatchback</td><td>Male</td><td>older work. people</td></tr><tr><th>13</th><td>0.492813</td><td>1.0</td><td>young cars</td><td>Hatchback</td><td>Female</td><td>older work. people</td></tr><tr><th>14</th><td>0.314853</td><td>7.04</td><td>youngest cars</td><td>Station wagon</td><td>Male</td><td>old people</td></tr><tr><th>15</th><td>0.4846</td><td>1.66</td><td>old cars</td><td>Sedan</td><td>Male</td><td>oldest people</td></tr><tr><th>16</th><td>0.391513</td><td>2.35</td><td>young cars</td><td>Sedan</td><td>Male</td><td>older work. people</td></tr><tr><th>17</th><td>0.99384</td><td>1.51</td><td>old cars</td><td>Sedan</td><td>Female</td><td>older work. people</td></tr><tr><th>18</th><td>0.539357</td><td>0.76</td><td>old cars</td><td>Hatchback</td><td>Male</td><td>older work. people</td></tr><tr><th>19</th><td>0.451745</td><td>0.27</td><td>oldest cars</td><td>Hatchback</td><td>Female</td><td>young people</td></tr><tr><th>20</th><td>0.594114</td><td>0.89</td><td>old cars</td><td>Hatchback</td><td>Female</td><td>working people</td></tr><tr><th>21</th><td>0.594114</td><td>1.95</td><td>youngest cars</td><td>Hatchback</td><td>Male</td><td>youngest people</td></tr><tr><th>22</th><td>0.536619</td><td>0.39</td><td>oldest cars</td><td>Sedan</td><td>Male</td><td>old people</td></tr><tr><th>23</th><td>0.594114</td><td>3.86</td><td>young cars</td><td>Station wagon</td><td>Female</td><td>young people</td></tr><tr><th>24</th><td>0.591376</td><td>1.37</td><td>youngest cars</td><td>Hatchback</td><td>Female</td><td>youngest people</td></tr><tr><th>25</th><td>0.999316</td><td>1.3</td><td>young cars</td><td>Hatchback</td><td>Female</td><td>young people</td></tr><tr><th>26</th><td>0.0301164</td><td>1.44</td><td>young cars</td><td>Hatchback</td><td>Female</td><td>youngest people</td></tr><tr><th>27</th><td>0.462697</td><td>1.349</td><td>youngest cars</td><td>Hatchback</td><td>Female</td><td>old people</td></tr><tr><th>28</th><td>0.317591</td><td>1.39</td><td>old cars</td><td>Hatchback</td><td>Female</td><td>young people</td></tr><tr><th>29</th><td>0.287474</td><td>1.0</td><td>oldest cars</td><td>Station wagon</td><td>Male</td><td>working people</td></tr><tr><th>30</th><td>0.0684463</td><td>1.51</td><td>young cars</td><td>Hatchback</td><td>Female</td><td>young people</td></tr><tr><th>&vellip;</th><td>&vellip;</td><td>&vellip;</td><td>&vellip;</td><td>&vellip;</td><td>&vellip;</td><td>&vellip;</td></tr></tbody></table></div>"
      ],
      "text/latex": [
       "\\begin{tabular}{r|ccccccc}\n",
       "\t& Exposure & VehValue & VehAge & VehBody & Gender & DrivAge & \\\\\n",
       "\t\\hline\n",
       "\t& Float64 & Float64 & String15 & String31 & String7 & String31 & \\\\\n",
       "\t\\hline\n",
       "\t1 & 0.303901 & 1.06 & old cars & Hatchback & Female & young people & $\\dots$ \\\\\n",
       "\t2 & 0.648871 & 1.03 & young cars & Hatchback & Female & older work. people & $\\dots$ \\\\\n",
       "\t3 & 0.569473 & 3.26 & young cars & Utility & Female & young people & $\\dots$ \\\\\n",
       "\t4 & 0.317591 & 4.14 & young cars & Station wagon & Female & young people & $\\dots$ \\\\\n",
       "\t5 & 0.648871 & 0.72 & oldest cars & Hatchback & Female & young people & $\\dots$ \\\\\n",
       "\t6 & 0.854209 & 2.01 & old cars & Hardtop & Male & older work. people & $\\dots$ \\\\\n",
       "\t7 & 0.854209 & 1.6 & old cars & Panel van & Male & older work. people & $\\dots$ \\\\\n",
       "\t8 & 0.555784 & 1.47 & young cars & Hatchback & Male & oldest people & $\\dots$ \\\\\n",
       "\t9 & 0.361396 & 0.52 & oldest cars & Hatchback & Female & working people & $\\dots$ \\\\\n",
       "\t10 & 0.520192 & 0.38 & oldest cars & Hatchback & Female & older work. people & $\\dots$ \\\\\n",
       "\t11 & 0.854209 & 1.38 & young cars & Hatchback & Male & young people & $\\dots$ \\\\\n",
       "\t12 & 0.854209 & 1.22 & old cars & Hatchback & Male & older work. people & $\\dots$ \\\\\n",
       "\t13 & 0.492813 & 1.0 & young cars & Hatchback & Female & older work. people & $\\dots$ \\\\\n",
       "\t14 & 0.314853 & 7.04 & youngest cars & Station wagon & Male & old people & $\\dots$ \\\\\n",
       "\t15 & 0.4846 & 1.66 & old cars & Sedan & Male & oldest people & $\\dots$ \\\\\n",
       "\t16 & 0.391513 & 2.35 & young cars & Sedan & Male & older work. people & $\\dots$ \\\\\n",
       "\t17 & 0.99384 & 1.51 & old cars & Sedan & Female & older work. people & $\\dots$ \\\\\n",
       "\t18 & 0.539357 & 0.76 & old cars & Hatchback & Male & older work. people & $\\dots$ \\\\\n",
       "\t19 & 0.451745 & 0.27 & oldest cars & Hatchback & Female & young people & $\\dots$ \\\\\n",
       "\t20 & 0.594114 & 0.89 & old cars & Hatchback & Female & working people & $\\dots$ \\\\\n",
       "\t21 & 0.594114 & 1.95 & youngest cars & Hatchback & Male & youngest people & $\\dots$ \\\\\n",
       "\t22 & 0.536619 & 0.39 & oldest cars & Sedan & Male & old people & $\\dots$ \\\\\n",
       "\t23 & 0.594114 & 3.86 & young cars & Station wagon & Female & young people & $\\dots$ \\\\\n",
       "\t24 & 0.591376 & 1.37 & youngest cars & Hatchback & Female & youngest people & $\\dots$ \\\\\n",
       "\t25 & 0.999316 & 1.3 & young cars & Hatchback & Female & young people & $\\dots$ \\\\\n",
       "\t26 & 0.0301164 & 1.44 & young cars & Hatchback & Female & youngest people & $\\dots$ \\\\\n",
       "\t27 & 0.462697 & 1.349 & youngest cars & Hatchback & Female & old people & $\\dots$ \\\\\n",
       "\t28 & 0.317591 & 1.39 & old cars & Hatchback & Female & young people & $\\dots$ \\\\\n",
       "\t29 & 0.287474 & 1.0 & oldest cars & Station wagon & Male & working people & $\\dots$ \\\\\n",
       "\t30 & 0.0684463 & 1.51 & young cars & Hatchback & Female & young people & $\\dots$ \\\\\n",
       "\t$\\dots$ & $\\dots$ & $\\dots$ & $\\dots$ & $\\dots$ & $\\dots$ & $\\dots$ &  \\\\\n",
       "\\end{tabular}\n"
      ],
      "text/plain": [
       "\u001b[1m67856×9 DataFrame\u001b[0m\n",
       "\u001b[1m   Row \u001b[0m│\u001b[1m Exposure \u001b[0m\u001b[1m VehValue \u001b[0m\u001b[1m VehAge        \u001b[0m\u001b[1m VehBody       \u001b[0m\u001b[1m Gender  \u001b[0m\u001b[1m DrivAge   \u001b[0m ⋯\n",
       "\u001b[1m       \u001b[0m│\u001b[90m Float64  \u001b[0m\u001b[90m Float64  \u001b[0m\u001b[90m String15      \u001b[0m\u001b[90m String31      \u001b[0m\u001b[90m String7 \u001b[0m\u001b[90m String31  \u001b[0m ⋯\n",
       "───────┼────────────────────────────────────────────────────────────────────────\n",
       "     1 │ 0.303901      1.06  old cars       Hatchback      Female   young peop ⋯\n",
       "     2 │ 0.648871      1.03  young cars     Hatchback      Female   older work\n",
       "     3 │ 0.569473      3.26  young cars     Utility        Female   young peop\n",
       "     4 │ 0.317591      4.14  young cars     Station wagon  Female   young peop\n",
       "     5 │ 0.648871      0.72  oldest cars    Hatchback      Female   young peop ⋯\n",
       "     6 │ 0.854209      2.01  old cars       Hardtop        Male     older work\n",
       "     7 │ 0.854209      1.6   old cars       Panel van      Male     older work\n",
       "     8 │ 0.555784      1.47  young cars     Hatchback      Male     oldest peo\n",
       "     9 │ 0.361396      0.52  oldest cars    Hatchback      Female   working pe ⋯\n",
       "    10 │ 0.520192      0.38  oldest cars    Hatchback      Female   older work\n",
       "    11 │ 0.854209      1.38  young cars     Hatchback      Male     young peop\n",
       "   ⋮   │    ⋮         ⋮            ⋮              ⋮           ⋮             ⋮  ⋱\n",
       " 67847 │ 0.854209      2.82  youngest cars  Station wagon  Female   older work\n",
       " 67848 │ 0.933607      0.73  oldest cars    Sedan          Male     old people ⋯\n",
       " 67849 │ 0.317591      1.33  oldest cars    Station wagon  Female   working pe\n",
       " 67850 │ 0.681725      1.98  young cars     Hatchback      Female   working pe\n",
       " 67851 │ 0.854209      3.55  young cars     Station wagon  Male     working pe\n",
       " 67852 │ 0.654346      1.07  young cars     Sedan          Male     oldest peo ⋯\n",
       " 67853 │ 0.908966      1.23  oldest cars    Sedan          Male     working pe\n",
       " 67854 │ 0.312115      1.93  oldest cars    Station wagon  Male     working pe\n",
       " 67855 │ 0.320329      0.97  old cars       Hatchback      Female   young peop\n",
       " 67856 │ 0.246407      1.02  old cars       Hatchback      Male     youngest p ⋯\n",
       "\u001b[36m                                                4 columns and 67835 rows omitted\u001b[0m"
      ]
     },
     "execution_count": 2,
     "metadata": {},
     "output_type": "execute_result"
    }
   ],
   "source": [
    "data = DataFrame(CSV.File(\"../data/ausprivauto0405.csv\"))"
   ]
  },
  {
   "cell_type": "markdown",
   "id": "5fd29604",
   "metadata": {},
   "source": [
    "`ClaimOcc` is the target variable, and we create a binary indicator from it and drop `ClaimNb` and `ClaimAmount` as features."
   ]
  },
  {
   "cell_type": "code",
   "execution_count": 3,
   "id": "76c62307",
   "metadata": {
    "ExecuteTime": {
     "end_time": "2022-07-16T00:27:33.214000+02:00",
     "start_time": "2022-07-15T22:26:03.294Z"
    }
   },
   "outputs": [],
   "source": [
    "data = select!(data, Not(:ClaimNb));\n",
    "data = select!(data, Not(:ClaimAmount));"
   ]
  },
  {
   "cell_type": "markdown",
   "id": "43453003",
   "metadata": {},
   "source": [
    "We apply min-max scaling to the `VehValue`:"
   ]
  },
  {
   "cell_type": "code",
   "execution_count": 4,
   "id": "cb5ddf93",
   "metadata": {
    "ExecuteTime": {
     "end_time": "2022-07-16T00:27:33.562000+02:00",
     "start_time": "2022-07-15T22:26:03.296Z"
    }
   },
   "outputs": [],
   "source": [
    "minmax(x) = (x .- minimum(x))./(maximum(x) .- minimum(x))\n",
    "data[:, :VehValue] = minmax(data[:, :VehValue]);"
   ]
  },
  {
   "cell_type": "code",
   "execution_count": 5,
   "id": "c90172e8",
   "metadata": {
    "ExecuteTime": {
     "end_time": "2022-07-16T00:27:34.013000+02:00",
     "start_time": "2022-07-15T22:26:03.300Z"
    }
   },
   "outputs": [
    {
     "data": {
      "text/plain": [
       "dummy_encode (generic function with 1 method)"
      ]
     },
     "execution_count": 5,
     "metadata": {},
     "output_type": "execute_result"
    }
   ],
   "source": [
    "function dummy_encode(x, name)::DataFrame\n",
    "## Purpose: dummy encodes a given vector, with the first entry dropped \n",
    "## as a baseline.\n",
    "## Input: vector of Strings and a name to assign subseqent columns\n",
    "## Output: DataFrame\n",
    "    u = unique(x)\n",
    "    df = DataFrame()\n",
    "    for i ∈ eachindex(u)\n",
    "        colname = \"$name\" * \"$i\"\n",
    "        df[!, colname] = x .== u[i]\n",
    "    end\n",
    "    return df[!, (1:end) .!= 1]\n",
    "end"
   ]
  },
  {
   "cell_type": "code",
   "execution_count": 6,
   "id": "19675e57",
   "metadata": {
    "ExecuteTime": {
     "end_time": "2022-07-16T00:27:34.164000+02:00",
     "start_time": "2022-07-15T22:26:03.303Z"
    }
   },
   "outputs": [
    {
     "data": {
      "text/plain": [
       "dummy_encode_all (generic function with 1 method)"
      ]
     },
     "execution_count": 6,
     "metadata": {},
     "output_type": "execute_result"
    }
   ],
   "source": [
    "function dummy_encode_all(X::DataFrame)::DataFrame\n",
    "## Purpose: dummy encodes all String columns in a DataFrame\n",
    "## Input: A DataFrame\n",
    "## Output: A DataFrame\n",
    "    df = DataFrame()\n",
    "    for i ∈ 1:size(X, 2)\n",
    "        if string(typeof(data[1, i])) ∉ [\"Float64\", \"Int64\", \"Int8\", \"Int16\", \"Int32\"]\n",
    "            de = dummy_encode(X[!, i], names(X)[i])\n",
    "            for c ∈ names(de)\n",
    "                df[!, c] = de[!, c]\n",
    "            end\n",
    "        else\n",
    "            df[!, names(X)[i]] = X[!, i]\n",
    "        end\n",
    "    end\n",
    "    return df\n",
    "end"
   ]
  },
  {
   "cell_type": "markdown",
   "id": "0ab2c0e8",
   "metadata": {},
   "source": [
    "We dummy encode our `DataFrame` and transform it into a matrix for Flux to interpret."
   ]
  },
  {
   "cell_type": "code",
   "execution_count": 7,
   "id": "82e9ff1b",
   "metadata": {
    "ExecuteTime": {
     "end_time": "2022-07-16T00:27:36.545000+02:00",
     "start_time": "2022-07-15T22:26:03.306Z"
    }
   },
   "outputs": [],
   "source": [
    "data_encode = Matrix{Float64}(dummy_encode_all(data));"
   ]
  },
  {
   "cell_type": "code",
   "execution_count": 8,
   "id": "5e40c654",
   "metadata": {
    "ExecuteTime": {
     "end_time": "2022-07-16T00:27:36.728000+02:00",
     "start_time": "2022-07-15T22:26:03.308Z"
    }
   },
   "outputs": [],
   "source": [
    "X = data_encode[:, 1:(end-1)]\n",
    "y = data_encode[:, end];"
   ]
  },
  {
   "cell_type": "code",
   "execution_count": 9,
   "id": "84fbd97a",
   "metadata": {
    "ExecuteTime": {
     "end_time": "2022-07-16T00:27:36.883000+02:00",
     "start_time": "2022-07-15T22:26:03.310Z"
    }
   },
   "outputs": [
    {
     "data": {
      "text/plain": [
       "low_variance_filter (generic function with 1 method)"
      ]
     },
     "execution_count": 9,
     "metadata": {},
     "output_type": "execute_result"
    }
   ],
   "source": [
    "function low_variance_filter(X; t=0.001)\n",
    "## Purpose: drops columns with low/zero variance\n",
    "## Input: A Matrix (DataFrame untested), a threshhold t (default=0.001)\n",
    "## Output: A Matrix (DataFrame untested)\n",
    "    l = zeros(0)\n",
    "    for c ∈ 1:size(X, 2)\n",
    "        if var(X[:, c]) ≤ t\n",
    "            append!(l, c)\n",
    "        end\n",
    "    end\n",
    "    return X[:, (1:end) .∉ (l,)] \n",
    "end"
   ]
  },
  {
   "cell_type": "code",
   "execution_count": 10,
   "id": "ef2b3652",
   "metadata": {
    "ExecuteTime": {
     "end_time": "2022-07-16T00:27:37.381000+02:00",
     "start_time": "2022-07-15T22:26:03.313Z"
    }
   },
   "outputs": [],
   "source": [
    "X = low_variance_filter(X; t=0.01);"
   ]
  },
  {
   "cell_type": "markdown",
   "id": "1ac1093d",
   "metadata": {},
   "source": [
    "We apply SMOTE in order to address class imbalance in the training set:"
   ]
  },
  {
   "cell_type": "code",
   "execution_count": 11,
   "id": "f471c512",
   "metadata": {
    "ExecuteTime": {
     "end_time": "2022-07-16T00:27:46.721000+02:00",
     "start_time": "2022-07-15T22:26:03.316Z"
    }
   },
   "outputs": [],
   "source": [
    "smote_X, smote_y = smote(X, vcat(y...), k = 5, pct_under = 400, pct_over = 100);"
   ]
  },
  {
   "cell_type": "markdown",
   "id": "3353fd7f",
   "metadata": {},
   "source": [
    "By using `partition()`, we ensure the distribution of out target variable is evenly dispersed:"
   ]
  },
  {
   "cell_type": "code",
   "execution_count": 12,
   "id": "02ed113f",
   "metadata": {
    "ExecuteTime": {
     "end_time": "2022-07-16T00:27:47.057000+02:00",
     "start_time": "2022-07-15T22:26:03.320Z"
    }
   },
   "outputs": [],
   "source": [
    "train, test = partition(eachindex(y), 0.7)\n",
    "train_X, train_y = smote_X, smote_y \n",
    "train_data = [(train_X', train_y')];"
   ]
  },
  {
   "cell_type": "markdown",
   "id": "5c05eeb8",
   "metadata": {},
   "source": [
    "We keep a testing set imbalances like original data."
   ]
  },
  {
   "cell_type": "code",
   "execution_count": 13,
   "id": "a87fa0b2",
   "metadata": {
    "ExecuteTime": {
     "end_time": "2022-07-16T00:27:47.101000+02:00",
     "start_time": "2022-07-15T22:26:03.322Z"
    }
   },
   "outputs": [],
   "source": [
    "test_X = X[test, :]\n",
    "test_y = y[test];"
   ]
  },
  {
   "cell_type": "markdown",
   "id": "17db51bc",
   "metadata": {},
   "source": [
    "We construct an ANN with two hidden layer of 40 neurons and 25 neurons, respectively. The tanh activation function scales inputs between -1 and 1 and introduces non-linearity."
   ]
  },
  {
   "cell_type": "code",
   "execution_count": 14,
   "id": "3abccc61",
   "metadata": {
    "ExecuteTime": {
     "end_time": "2022-07-16T00:27:47.903000+02:00",
     "start_time": "2022-07-15T22:26:03.326Z"
    }
   },
   "outputs": [],
   "source": [
    "n_features = size(train_X, 2)\n",
    "model = Chain(Dense(n_features, 40, tanh), Dense(40, 25, tanh), Dense(25, 1, sigmoid))\n",
    "β = Flux.params(model);"
   ]
  },
  {
   "cell_type": "markdown",
   "id": "478b2377",
   "metadata": {},
   "source": [
    "NAdam is chosen as the optimiser and MSE the loss function:"
   ]
  },
  {
   "cell_type": "code",
   "execution_count": 15,
   "id": "6ddac687",
   "metadata": {
    "ExecuteTime": {
     "end_time": "2022-07-16T00:27:47.915000+02:00",
     "start_time": "2022-07-15T22:26:03.328Z"
    }
   },
   "outputs": [],
   "source": [
    "δ = NAdam()\n",
    "ℓ(x, y) = Flux.Losses.mse(model(x), y);"
   ]
  },
  {
   "cell_type": "markdown",
   "id": "520ec80c",
   "metadata": {},
   "source": [
    "We train using 1'000 epochs (for demonstrative purposes) and display the loss every N/10 epochs for transparency."
   ]
  },
  {
   "cell_type": "code",
   "execution_count": 16,
   "id": "49a32167",
   "metadata": {
    "ExecuteTime": {
     "end_time": "2022-07-16T00:27:51.418000+02:00",
     "start_time": "2022-07-15T22:26:03.332Z"
    }
   },
   "outputs": [
    {
     "name": "stdout",
     "output_type": "stream",
     "text": [
      "Starting training...\n"
     ]
    },
    {
     "data": {
      "text/plain": [
       "0.2606646663574626"
      ]
     },
     "execution_count": 16,
     "metadata": {},
     "output_type": "execute_result"
    }
   ],
   "source": [
    "println(\"Starting training...\")\n",
    "ℓ(train_X', train_y')"
   ]
  },
  {
   "cell_type": "code",
   "execution_count": 17,
   "id": "4389659f",
   "metadata": {
    "ExecuteTime": {
     "end_time": "2022-07-16T00:27:51.419000+02:00",
     "start_time": "2022-07-15T22:26:03.334Z"
    }
   },
   "outputs": [],
   "source": [
    "N = 1_000;"
   ]
  },
  {
   "cell_type": "code",
   "execution_count": 18,
   "id": "8c28b448",
   "metadata": {
    "ExecuteTime": {
     "end_time": "2022-07-16T00:34:23.635000+02:00",
     "start_time": "2022-07-15T22:26:03.337Z"
    }
   },
   "outputs": [
    {
     "name": "stdout",
     "output_type": "stream",
     "text": [
      "epoch = 100\n",
      "ℓ(train_X', train_y') = 0.20965709730921606\n",
      "epoch = 200\n",
      "ℓ(train_X', train_y') = 0.2069033815059925\n",
      "epoch = 300\n",
      "ℓ(train_X', train_y') = 0.20650939001764948\n",
      "epoch = 400\n",
      "ℓ(train_X', train_y') = 0.20602151330658106\n",
      "epoch = 500\n",
      "ℓ(train_X', train_y') = 0.2053408273269187\n",
      "epoch = 600\n",
      "ℓ(train_X', train_y') = 0.2045950392679257\n",
      "epoch = 700\n",
      "ℓ(train_X', train_y') = 0.20412167082497348\n",
      "epoch = 800\n",
      "ℓ(train_X', train_y') = 0.20380061793622672\n",
      "epoch = 900\n",
      "ℓ(train_X', train_y') = 0.2034385559361532\n",
      "epoch = 1000\n",
      "ℓ(train_X', train_y') = 0.20299114135534757\n"
     ]
    }
   ],
   "source": [
    "epochs = zeros(N)\n",
    "for epoch ∈ 1:N\n",
    "    Flux.train!(ℓ, β, train_data, δ)\n",
    "    epochs[epoch] = ℓ(train_X', train_y')\n",
    "    if epoch % (N/10) == 0\n",
    "        @show epoch\n",
    "        @show ℓ(train_X', train_y')\n",
    "    end\n",
    "end"
   ]
  },
  {
   "cell_type": "code",
   "execution_count": 19,
   "id": "e8fedd5b",
   "metadata": {
    "ExecuteTime": {
     "end_time": "2022-07-16T00:34:47.484000+02:00",
     "start_time": "2022-07-15T22:26:03.339Z"
    }
   },
   "outputs": [
    {
     "data": {
      "image/svg+xml": [
       "<?xml version=\"1.0\" encoding=\"utf-8\"?>\n",
       "<svg xmlns=\"http://www.w3.org/2000/svg\" xmlns:xlink=\"http://www.w3.org/1999/xlink\" width=\"600\" height=\"400\" viewBox=\"0 0 2400 1600\">\n",
       "<defs>\n",
       "  <clipPath id=\"clip240\">\n",
       "    <rect x=\"0\" y=\"0\" width=\"2400\" height=\"1600\"/>\n",
       "  </clipPath>\n",
       "</defs>\n",
       "<path clip-path=\"url(#clip240)\" d=\"\n",
       "M0 1600 L2400 1600 L2400 0 L0 0  Z\n",
       "  \" fill=\"#ffffff\" fill-rule=\"evenodd\" fill-opacity=\"1\"/>\n",
       "<defs>\n",
       "  <clipPath id=\"clip241\">\n",
       "    <rect x=\"480\" y=\"0\" width=\"1681\" height=\"1600\"/>\n",
       "  </clipPath>\n",
       "</defs>\n",
       "<path clip-path=\"url(#clip240)\" d=\"\n",
       "M250.028 1423.18 L2352.76 1423.18 L2352.76 47.2441 L250.028 47.2441  Z\n",
       "  \" fill=\"#ffffff\" fill-rule=\"evenodd\" fill-opacity=\"1\"/>\n",
       "<defs>\n",
       "  <clipPath id=\"clip242\">\n",
       "    <rect x=\"250\" y=\"47\" width=\"2104\" height=\"1377\"/>\n",
       "  </clipPath>\n",
       "</defs>\n",
       "<polyline clip-path=\"url(#clip242)\" style=\"stroke:#000000; stroke-linecap:butt; stroke-linejoin:round; stroke-width:2; stroke-opacity:0.1; fill:none\" points=\"\n",
       "  307.554,1423.18 307.554,47.2441 \n",
       "  \"/>\n",
       "<polyline clip-path=\"url(#clip242)\" style=\"stroke:#000000; stroke-linecap:butt; stroke-linejoin:round; stroke-width:2; stroke-opacity:0.1; fill:none\" points=\"\n",
       "  803.976,1423.18 803.976,47.2441 \n",
       "  \"/>\n",
       "<polyline clip-path=\"url(#clip242)\" style=\"stroke:#000000; stroke-linecap:butt; stroke-linejoin:round; stroke-width:2; stroke-opacity:0.1; fill:none\" points=\"\n",
       "  1300.4,1423.18 1300.4,47.2441 \n",
       "  \"/>\n",
       "<polyline clip-path=\"url(#clip242)\" style=\"stroke:#000000; stroke-linecap:butt; stroke-linejoin:round; stroke-width:2; stroke-opacity:0.1; fill:none\" points=\"\n",
       "  1796.82,1423.18 1796.82,47.2441 \n",
       "  \"/>\n",
       "<polyline clip-path=\"url(#clip242)\" style=\"stroke:#000000; stroke-linecap:butt; stroke-linejoin:round; stroke-width:2; stroke-opacity:0.1; fill:none\" points=\"\n",
       "  2293.24,1423.18 2293.24,47.2441 \n",
       "  \"/>\n",
       "<polyline clip-path=\"url(#clip240)\" style=\"stroke:#000000; stroke-linecap:butt; stroke-linejoin:round; stroke-width:4; stroke-opacity:1; fill:none\" points=\"\n",
       "  250.028,1423.18 2352.76,1423.18 \n",
       "  \"/>\n",
       "<polyline clip-path=\"url(#clip240)\" style=\"stroke:#000000; stroke-linecap:butt; stroke-linejoin:round; stroke-width:4; stroke-opacity:1; fill:none\" points=\"\n",
       "  307.554,1423.18 307.554,1404.28 \n",
       "  \"/>\n",
       "<polyline clip-path=\"url(#clip240)\" style=\"stroke:#000000; stroke-linecap:butt; stroke-linejoin:round; stroke-width:4; stroke-opacity:1; fill:none\" points=\"\n",
       "  803.976,1423.18 803.976,1404.28 \n",
       "  \"/>\n",
       "<polyline clip-path=\"url(#clip240)\" style=\"stroke:#000000; stroke-linecap:butt; stroke-linejoin:round; stroke-width:4; stroke-opacity:1; fill:none\" points=\"\n",
       "  1300.4,1423.18 1300.4,1404.28 \n",
       "  \"/>\n",
       "<polyline clip-path=\"url(#clip240)\" style=\"stroke:#000000; stroke-linecap:butt; stroke-linejoin:round; stroke-width:4; stroke-opacity:1; fill:none\" points=\"\n",
       "  1796.82,1423.18 1796.82,1404.28 \n",
       "  \"/>\n",
       "<polyline clip-path=\"url(#clip240)\" style=\"stroke:#000000; stroke-linecap:butt; stroke-linejoin:round; stroke-width:4; stroke-opacity:1; fill:none\" points=\"\n",
       "  2293.24,1423.18 2293.24,1404.28 \n",
       "  \"/>\n",
       "<path clip-path=\"url(#clip240)\" d=\"M307.554 1454.1 Q303.943 1454.1 302.114 1457.66 Q300.308 1461.2 300.308 1468.33 Q300.308 1475.44 302.114 1479.01 Q303.943 1482.55 307.554 1482.55 Q311.188 1482.55 312.993 1479.01 Q314.822 1475.44 314.822 1468.33 Q314.822 1461.2 312.993 1457.66 Q311.188 1454.1 307.554 1454.1 M307.554 1450.39 Q313.364 1450.39 316.419 1455 Q319.498 1459.58 319.498 1468.33 Q319.498 1477.06 316.419 1481.67 Q313.364 1486.25 307.554 1486.25 Q301.743 1486.25 298.665 1481.67 Q295.609 1477.06 295.609 1468.33 Q295.609 1459.58 298.665 1455 Q301.743 1450.39 307.554 1450.39 Z\" fill=\"#000000\" fill-rule=\"evenodd\" fill-opacity=\"1\" /><path clip-path=\"url(#clip240)\" d=\"M767.669 1481.64 L783.988 1481.64 L783.988 1485.58 L762.044 1485.58 L762.044 1481.64 Q764.706 1478.89 769.289 1474.26 Q773.896 1469.61 775.076 1468.27 Q777.321 1465.74 778.201 1464.01 Q779.104 1462.25 779.104 1460.56 Q779.104 1457.8 777.159 1456.07 Q775.238 1454.33 772.136 1454.33 Q769.937 1454.33 767.484 1455.09 Q765.053 1455.86 762.275 1457.41 L762.275 1452.69 Q765.099 1451.55 767.553 1450.97 Q770.007 1450.39 772.044 1450.39 Q777.414 1450.39 780.608 1453.08 Q783.803 1455.77 783.803 1460.26 Q783.803 1462.39 782.993 1464.31 Q782.206 1466.2 780.099 1468.8 Q779.521 1469.47 776.419 1472.69 Q773.317 1475.88 767.669 1481.64 Z\" fill=\"#000000\" fill-rule=\"evenodd\" fill-opacity=\"1\" /><path clip-path=\"url(#clip240)\" d=\"M793.849 1451.02 L812.206 1451.02 L812.206 1454.96 L798.132 1454.96 L798.132 1463.43 Q799.15 1463.08 800.169 1462.92 Q801.187 1462.73 802.206 1462.73 Q807.993 1462.73 811.372 1465.9 Q814.752 1469.08 814.752 1474.49 Q814.752 1480.07 811.28 1483.17 Q807.807 1486.25 801.488 1486.25 Q799.312 1486.25 797.044 1485.88 Q794.798 1485.51 792.391 1484.77 L792.391 1480.07 Q794.474 1481.2 796.696 1481.76 Q798.919 1482.32 801.395 1482.32 Q805.4 1482.32 807.738 1480.21 Q810.076 1478.1 810.076 1474.49 Q810.076 1470.88 807.738 1468.77 Q805.4 1466.67 801.395 1466.67 Q799.52 1466.67 797.645 1467.08 Q795.794 1467.5 793.849 1468.38 L793.849 1451.02 Z\" fill=\"#000000\" fill-rule=\"evenodd\" fill-opacity=\"1\" /><path clip-path=\"url(#clip240)\" d=\"M833.965 1454.1 Q830.354 1454.1 828.525 1457.66 Q826.719 1461.2 826.719 1468.33 Q826.719 1475.44 828.525 1479.01 Q830.354 1482.55 833.965 1482.55 Q837.599 1482.55 839.404 1479.01 Q841.233 1475.44 841.233 1468.33 Q841.233 1461.2 839.404 1457.66 Q837.599 1454.1 833.965 1454.1 M833.965 1450.39 Q839.775 1450.39 842.83 1455 Q845.909 1459.58 845.909 1468.33 Q845.909 1477.06 842.83 1481.67 Q839.775 1486.25 833.965 1486.25 Q828.155 1486.25 825.076 1481.67 Q822.02 1477.06 822.02 1468.33 Q822.02 1459.58 825.076 1455 Q828.155 1450.39 833.965 1450.39 Z\" fill=\"#000000\" fill-rule=\"evenodd\" fill-opacity=\"1\" /><path clip-path=\"url(#clip240)\" d=\"M1260.02 1451.02 L1278.37 1451.02 L1278.37 1454.96 L1264.3 1454.96 L1264.3 1463.43 Q1265.32 1463.08 1266.34 1462.92 Q1267.36 1462.73 1268.37 1462.73 Q1274.16 1462.73 1277.54 1465.9 Q1280.92 1469.08 1280.92 1474.49 Q1280.92 1480.07 1277.45 1483.17 Q1273.98 1486.25 1267.66 1486.25 Q1265.48 1486.25 1263.21 1485.88 Q1260.97 1485.51 1258.56 1484.77 L1258.56 1480.07 Q1260.64 1481.2 1262.86 1481.76 Q1265.09 1482.32 1267.56 1482.32 Q1271.57 1482.32 1273.91 1480.21 Q1276.24 1478.1 1276.24 1474.49 Q1276.24 1470.88 1273.91 1468.77 Q1271.57 1466.67 1267.56 1466.67 Q1265.69 1466.67 1263.81 1467.08 Q1261.96 1467.5 1260.02 1468.38 L1260.02 1451.02 Z\" fill=\"#000000\" fill-rule=\"evenodd\" fill-opacity=\"1\" /><path clip-path=\"url(#clip240)\" d=\"M1300.13 1454.1 Q1296.52 1454.1 1294.69 1457.66 Q1292.89 1461.2 1292.89 1468.33 Q1292.89 1475.44 1294.69 1479.01 Q1296.52 1482.55 1300.13 1482.55 Q1303.77 1482.55 1305.57 1479.01 Q1307.4 1475.44 1307.4 1468.33 Q1307.4 1461.2 1305.57 1457.66 Q1303.77 1454.1 1300.13 1454.1 M1300.13 1450.39 Q1305.94 1450.39 1309 1455 Q1312.08 1459.58 1312.08 1468.33 Q1312.08 1477.06 1309 1481.67 Q1305.94 1486.25 1300.13 1486.25 Q1294.32 1486.25 1291.24 1481.67 Q1288.19 1477.06 1288.19 1468.33 Q1288.19 1459.58 1291.24 1455 Q1294.32 1450.39 1300.13 1450.39 Z\" fill=\"#000000\" fill-rule=\"evenodd\" fill-opacity=\"1\" /><path clip-path=\"url(#clip240)\" d=\"M1330.29 1454.1 Q1326.68 1454.1 1324.86 1457.66 Q1323.05 1461.2 1323.05 1468.33 Q1323.05 1475.44 1324.86 1479.01 Q1326.68 1482.55 1330.29 1482.55 Q1333.93 1482.55 1335.73 1479.01 Q1337.56 1475.44 1337.56 1468.33 Q1337.56 1461.2 1335.73 1457.66 Q1333.93 1454.1 1330.29 1454.1 M1330.29 1450.39 Q1336.11 1450.39 1339.16 1455 Q1342.24 1459.58 1342.24 1468.33 Q1342.24 1477.06 1339.16 1481.67 Q1336.11 1486.25 1330.29 1486.25 Q1324.48 1486.25 1321.41 1481.67 Q1318.35 1477.06 1318.35 1468.33 Q1318.35 1459.58 1321.41 1455 Q1324.48 1450.39 1330.29 1450.39 Z\" fill=\"#000000\" fill-rule=\"evenodd\" fill-opacity=\"1\" /><path clip-path=\"url(#clip240)\" d=\"M1755.1 1451.02 L1777.32 1451.02 L1777.32 1453.01 L1764.77 1485.58 L1759.89 1485.58 L1771.69 1454.96 L1755.1 1454.96 L1755.1 1451.02 Z\" fill=\"#000000\" fill-rule=\"evenodd\" fill-opacity=\"1\" /><path clip-path=\"url(#clip240)\" d=\"M1786.49 1451.02 L1804.84 1451.02 L1804.84 1454.96 L1790.77 1454.96 L1790.77 1463.43 Q1791.79 1463.08 1792.81 1462.92 Q1793.82 1462.73 1794.84 1462.73 Q1800.63 1462.73 1804.01 1465.9 Q1807.39 1469.08 1807.39 1474.49 Q1807.39 1480.07 1803.92 1483.17 Q1800.44 1486.25 1794.13 1486.25 Q1791.95 1486.25 1789.68 1485.88 Q1787.44 1485.51 1785.03 1484.77 L1785.03 1480.07 Q1787.11 1481.2 1789.33 1481.76 Q1791.56 1482.32 1794.03 1482.32 Q1798.04 1482.32 1800.38 1480.21 Q1802.71 1478.1 1802.71 1474.49 Q1802.71 1470.88 1800.38 1468.77 Q1798.04 1466.67 1794.03 1466.67 Q1792.16 1466.67 1790.28 1467.08 Q1788.43 1467.5 1786.49 1468.38 L1786.49 1451.02 Z\" fill=\"#000000\" fill-rule=\"evenodd\" fill-opacity=\"1\" /><path clip-path=\"url(#clip240)\" d=\"M1826.6 1454.1 Q1822.99 1454.1 1821.16 1457.66 Q1819.36 1461.2 1819.36 1468.33 Q1819.36 1475.44 1821.16 1479.01 Q1822.99 1482.55 1826.6 1482.55 Q1830.24 1482.55 1832.04 1479.01 Q1833.87 1475.44 1833.87 1468.33 Q1833.87 1461.2 1832.04 1457.66 Q1830.24 1454.1 1826.6 1454.1 M1826.6 1450.39 Q1832.41 1450.39 1835.47 1455 Q1838.55 1459.58 1838.55 1468.33 Q1838.55 1477.06 1835.47 1481.67 Q1832.41 1486.25 1826.6 1486.25 Q1820.79 1486.25 1817.71 1481.67 Q1814.66 1477.06 1814.66 1468.33 Q1814.66 1459.58 1817.71 1455 Q1820.79 1450.39 1826.6 1450.39 Z\" fill=\"#000000\" fill-rule=\"evenodd\" fill-opacity=\"1\" /><path clip-path=\"url(#clip240)\" d=\"M2237.77 1481.64 L2245.41 1481.64 L2245.41 1455.28 L2237.1 1456.95 L2237.1 1452.69 L2245.36 1451.02 L2250.04 1451.02 L2250.04 1481.64 L2257.68 1481.64 L2257.68 1485.58 L2237.77 1485.58 L2237.77 1481.64 Z\" fill=\"#000000\" fill-rule=\"evenodd\" fill-opacity=\"1\" /><path clip-path=\"url(#clip240)\" d=\"M2277.12 1454.1 Q2273.51 1454.1 2271.68 1457.66 Q2269.88 1461.2 2269.88 1468.33 Q2269.88 1475.44 2271.68 1479.01 Q2273.51 1482.55 2277.12 1482.55 Q2280.76 1482.55 2282.56 1479.01 Q2284.39 1475.44 2284.39 1468.33 Q2284.39 1461.2 2282.56 1457.66 Q2280.76 1454.1 2277.12 1454.1 M2277.12 1450.39 Q2282.93 1450.39 2285.99 1455 Q2289.07 1459.58 2289.07 1468.33 Q2289.07 1477.06 2285.99 1481.67 Q2282.93 1486.25 2277.12 1486.25 Q2271.31 1486.25 2268.23 1481.67 Q2265.18 1477.06 2265.18 1468.33 Q2265.18 1459.58 2268.23 1455 Q2271.31 1450.39 2277.12 1450.39 Z\" fill=\"#000000\" fill-rule=\"evenodd\" fill-opacity=\"1\" /><path clip-path=\"url(#clip240)\" d=\"M2307.28 1454.1 Q2303.67 1454.1 2301.84 1457.66 Q2300.04 1461.2 2300.04 1468.33 Q2300.04 1475.44 2301.84 1479.01 Q2303.67 1482.55 2307.28 1482.55 Q2310.92 1482.55 2312.72 1479.01 Q2314.55 1475.44 2314.55 1468.33 Q2314.55 1461.2 2312.72 1457.66 Q2310.92 1454.1 2307.28 1454.1 M2307.28 1450.39 Q2313.09 1450.39 2316.15 1455 Q2319.23 1459.58 2319.23 1468.33 Q2319.23 1477.06 2316.15 1481.67 Q2313.09 1486.25 2307.28 1486.25 Q2301.47 1486.25 2298.4 1481.67 Q2295.34 1477.06 2295.34 1468.33 Q2295.34 1459.58 2298.4 1455 Q2301.47 1450.39 2307.28 1450.39 Z\" fill=\"#000000\" fill-rule=\"evenodd\" fill-opacity=\"1\" /><path clip-path=\"url(#clip240)\" d=\"M2337.45 1454.1 Q2333.83 1454.1 2332.01 1457.66 Q2330.2 1461.2 2330.2 1468.33 Q2330.2 1475.44 2332.01 1479.01 Q2333.83 1482.55 2337.45 1482.55 Q2341.08 1482.55 2342.89 1479.01 Q2344.71 1475.44 2344.71 1468.33 Q2344.71 1461.2 2342.89 1457.66 Q2341.08 1454.1 2337.45 1454.1 M2337.45 1450.39 Q2343.26 1450.39 2346.31 1455 Q2349.39 1459.58 2349.39 1468.33 Q2349.39 1477.06 2346.31 1481.67 Q2343.26 1486.25 2337.45 1486.25 Q2331.64 1486.25 2328.56 1481.67 Q2325.5 1477.06 2325.5 1468.33 Q2325.5 1459.58 2328.56 1455 Q2331.64 1450.39 2337.45 1450.39 Z\" fill=\"#000000\" fill-rule=\"evenodd\" fill-opacity=\"1\" /><path clip-path=\"url(#clip240)\" d=\"M1189.4 1520.52 L1219.45 1520.52 L1219.45 1525.93 L1195.83 1525.93 L1195.83 1540 L1218.46 1540 L1218.46 1545.41 L1195.83 1545.41 L1195.83 1562.63 L1220.02 1562.63 L1220.02 1568.04 L1189.4 1568.04 L1189.4 1520.52 Z\" fill=\"#000000\" fill-rule=\"evenodd\" fill-opacity=\"1\" /><path clip-path=\"url(#clip240)\" d=\"M1236 1562.7 L1236 1581.6 L1230.11 1581.6 L1230.11 1532.4 L1236 1532.4 L1236 1537.81 Q1237.85 1534.62 1240.65 1533.1 Q1243.48 1531.54 1247.39 1531.54 Q1253.89 1531.54 1257.93 1536.69 Q1262 1541.85 1262 1550.25 Q1262 1558.65 1257.93 1563.81 Q1253.89 1568.97 1247.39 1568.97 Q1243.48 1568.97 1240.65 1567.44 Q1237.85 1565.88 1236 1562.7 M1255.92 1550.25 Q1255.92 1543.79 1253.25 1540.13 Q1250.61 1536.44 1245.96 1536.44 Q1241.32 1536.44 1238.64 1540.13 Q1236 1543.79 1236 1550.25 Q1236 1556.71 1238.64 1560.4 Q1241.32 1564.07 1245.96 1564.07 Q1250.61 1564.07 1253.25 1560.4 Q1255.92 1556.71 1255.92 1550.25 Z\" fill=\"#000000\" fill-rule=\"evenodd\" fill-opacity=\"1\" /><path clip-path=\"url(#clip240)\" d=\"M1285.53 1536.5 Q1280.81 1536.5 1278.08 1540.19 Q1275.34 1543.85 1275.34 1550.25 Q1275.34 1556.65 1278.05 1560.34 Q1280.78 1564 1285.53 1564 Q1290.2 1564 1292.94 1560.31 Q1295.68 1556.62 1295.68 1550.25 Q1295.68 1543.92 1292.94 1540.23 Q1290.2 1536.5 1285.53 1536.5 M1285.53 1531.54 Q1293.16 1531.54 1297.52 1536.5 Q1301.89 1541.47 1301.89 1550.25 Q1301.89 1559 1297.52 1564 Q1293.16 1568.97 1285.53 1568.97 Q1277.85 1568.97 1273.49 1564 Q1269.17 1559 1269.17 1550.25 Q1269.17 1541.47 1273.49 1536.5 Q1277.85 1531.54 1285.53 1531.54 Z\" fill=\"#000000\" fill-rule=\"evenodd\" fill-opacity=\"1\" /><path clip-path=\"url(#clip240)\" d=\"M1337.25 1533.76 L1337.25 1539.24 Q1334.76 1537.87 1332.25 1537.2 Q1329.77 1536.5 1327.22 1536.5 Q1321.52 1536.5 1318.37 1540.13 Q1315.22 1543.73 1315.22 1550.25 Q1315.22 1556.78 1318.37 1560.4 Q1321.52 1564 1327.22 1564 Q1329.77 1564 1332.25 1563.33 Q1334.76 1562.63 1337.25 1561.26 L1337.25 1566.68 Q1334.8 1567.82 1332.15 1568.39 Q1329.54 1568.97 1326.58 1568.97 Q1318.53 1568.97 1313.79 1563.91 Q1309.05 1558.85 1309.05 1550.25 Q1309.05 1541.53 1313.82 1536.53 Q1318.63 1531.54 1326.97 1531.54 Q1329.67 1531.54 1332.25 1532.11 Q1334.83 1532.65 1337.25 1533.76 Z\" fill=\"#000000\" fill-rule=\"evenodd\" fill-opacity=\"1\" /><path clip-path=\"url(#clip240)\" d=\"M1377.06 1546.53 L1377.06 1568.04 L1371.21 1568.04 L1371.21 1546.72 Q1371.21 1541.66 1369.23 1539.14 Q1367.26 1536.63 1363.31 1536.63 Q1358.57 1536.63 1355.83 1539.65 Q1353.1 1542.68 1353.1 1547.9 L1353.1 1568.04 L1347.21 1568.04 L1347.21 1518.52 L1353.1 1518.52 L1353.1 1537.93 Q1355.2 1534.72 1358.03 1533.13 Q1360.9 1531.54 1364.62 1531.54 Q1370.76 1531.54 1373.91 1535.36 Q1377.06 1539.14 1377.06 1546.53 Z\" fill=\"#000000\" fill-rule=\"evenodd\" fill-opacity=\"1\" /><path clip-path=\"url(#clip240)\" d=\"M1411.47 1533.45 L1411.47 1538.98 Q1408.99 1537.71 1406.31 1537.07 Q1403.64 1536.44 1400.78 1536.44 Q1396.42 1536.44 1394.22 1537.77 Q1392.06 1539.11 1392.06 1541.79 Q1392.06 1543.82 1393.62 1545 Q1395.17 1546.15 1399.89 1547.2 L1401.89 1547.64 Q1408.13 1548.98 1410.74 1551.43 Q1413.38 1553.85 1413.38 1558.21 Q1413.38 1563.17 1409.43 1566.07 Q1405.52 1568.97 1398.64 1568.97 Q1395.78 1568.97 1392.66 1568.39 Q1389.57 1567.85 1386.14 1566.74 L1386.14 1560.69 Q1389.38 1562.38 1392.53 1563.24 Q1395.68 1564.07 1398.77 1564.07 Q1402.91 1564.07 1405.14 1562.66 Q1407.37 1561.23 1407.37 1558.65 Q1407.37 1556.27 1405.74 1554.99 Q1404.15 1553.72 1398.71 1552.54 L1396.67 1552.07 Q1391.23 1550.92 1388.81 1548.56 Q1386.39 1546.18 1386.39 1542.04 Q1386.39 1537.01 1389.95 1534.27 Q1393.52 1531.54 1400.08 1531.54 Q1403.32 1531.54 1406.19 1532.01 Q1409.05 1532.49 1411.47 1533.45 Z\" fill=\"#000000\" fill-rule=\"evenodd\" fill-opacity=\"1\" /><polyline clip-path=\"url(#clip242)\" style=\"stroke:#000000; stroke-linecap:butt; stroke-linejoin:round; stroke-width:2; stroke-opacity:0.1; fill:none\" points=\"\n",
       "  250.028,1204.68 2352.76,1204.68 \n",
       "  \"/>\n",
       "<polyline clip-path=\"url(#clip242)\" style=\"stroke:#000000; stroke-linecap:butt; stroke-linejoin:round; stroke-width:2; stroke-opacity:0.1; fill:none\" points=\"\n",
       "  250.028,948.497 2352.76,948.497 \n",
       "  \"/>\n",
       "<polyline clip-path=\"url(#clip242)\" style=\"stroke:#000000; stroke-linecap:butt; stroke-linejoin:round; stroke-width:2; stroke-opacity:0.1; fill:none\" points=\"\n",
       "  250.028,692.312 2352.76,692.312 \n",
       "  \"/>\n",
       "<polyline clip-path=\"url(#clip242)\" style=\"stroke:#000000; stroke-linecap:butt; stroke-linejoin:round; stroke-width:2; stroke-opacity:0.1; fill:none\" points=\"\n",
       "  250.028,436.128 2352.76,436.128 \n",
       "  \"/>\n",
       "<polyline clip-path=\"url(#clip242)\" style=\"stroke:#000000; stroke-linecap:butt; stroke-linejoin:round; stroke-width:2; stroke-opacity:0.1; fill:none\" points=\"\n",
       "  250.028,179.943 2352.76,179.943 \n",
       "  \"/>\n",
       "<polyline clip-path=\"url(#clip240)\" style=\"stroke:#000000; stroke-linecap:butt; stroke-linejoin:round; stroke-width:4; stroke-opacity:1; fill:none\" points=\"\n",
       "  250.028,1423.18 250.028,47.2441 \n",
       "  \"/>\n",
       "<polyline clip-path=\"url(#clip240)\" style=\"stroke:#000000; stroke-linecap:butt; stroke-linejoin:round; stroke-width:4; stroke-opacity:1; fill:none\" points=\"\n",
       "  250.028,1204.68 268.926,1204.68 \n",
       "  \"/>\n",
       "<polyline clip-path=\"url(#clip240)\" style=\"stroke:#000000; stroke-linecap:butt; stroke-linejoin:round; stroke-width:4; stroke-opacity:1; fill:none\" points=\"\n",
       "  250.028,948.497 268.926,948.497 \n",
       "  \"/>\n",
       "<polyline clip-path=\"url(#clip240)\" style=\"stroke:#000000; stroke-linecap:butt; stroke-linejoin:round; stroke-width:4; stroke-opacity:1; fill:none\" points=\"\n",
       "  250.028,692.312 268.926,692.312 \n",
       "  \"/>\n",
       "<polyline clip-path=\"url(#clip240)\" style=\"stroke:#000000; stroke-linecap:butt; stroke-linejoin:round; stroke-width:4; stroke-opacity:1; fill:none\" points=\"\n",
       "  250.028,436.128 268.926,436.128 \n",
       "  \"/>\n",
       "<polyline clip-path=\"url(#clip240)\" style=\"stroke:#000000; stroke-linecap:butt; stroke-linejoin:round; stroke-width:4; stroke-opacity:1; fill:none\" points=\"\n",
       "  250.028,179.943 268.926,179.943 \n",
       "  \"/>\n",
       "<path clip-path=\"url(#clip240)\" d=\"M127.917 1190.48 Q124.306 1190.48 122.478 1194.05 Q120.672 1197.59 120.672 1204.72 Q120.672 1211.82 122.478 1215.39 Q124.306 1218.93 127.917 1218.93 Q131.552 1218.93 133.357 1215.39 Q135.186 1211.82 135.186 1204.72 Q135.186 1197.59 133.357 1194.05 Q131.552 1190.48 127.917 1190.48 M127.917 1186.78 Q133.728 1186.78 136.783 1191.38 Q139.862 1195.97 139.862 1204.72 Q139.862 1213.44 136.783 1218.05 Q133.728 1222.63 127.917 1222.63 Q122.107 1222.63 119.029 1218.05 Q115.973 1213.44 115.973 1204.72 Q115.973 1195.97 119.029 1191.38 Q122.107 1186.78 127.917 1186.78 Z\" fill=\"#000000\" fill-rule=\"evenodd\" fill-opacity=\"1\" /><path clip-path=\"url(#clip240)\" d=\"M148.079 1216.08 L152.964 1216.08 L152.964 1221.96 L148.079 1221.96 L148.079 1216.08 Z\" fill=\"#000000\" fill-rule=\"evenodd\" fill-opacity=\"1\" /><path clip-path=\"url(#clip240)\" d=\"M167.177 1218.03 L183.496 1218.03 L183.496 1221.96 L161.552 1221.96 L161.552 1218.03 Q164.214 1215.27 168.797 1210.64 Q173.403 1205.99 174.584 1204.65 Q176.829 1202.12 177.709 1200.39 Q178.612 1198.63 178.612 1196.94 Q178.612 1194.18 176.667 1192.45 Q174.746 1190.71 171.644 1190.71 Q169.445 1190.71 166.991 1191.48 Q164.561 1192.24 161.783 1193.79 L161.783 1189.07 Q164.607 1187.93 167.061 1187.36 Q169.514 1186.78 171.552 1186.78 Q176.922 1186.78 180.116 1189.46 Q183.311 1192.15 183.311 1196.64 Q183.311 1198.77 182.501 1200.69 Q181.713 1202.59 179.607 1205.18 Q179.028 1205.85 175.926 1209.07 Q172.825 1212.26 167.177 1218.03 Z\" fill=\"#000000\" fill-rule=\"evenodd\" fill-opacity=\"1\" /><path clip-path=\"url(#clip240)\" d=\"M194.121 1218.03 L201.76 1218.03 L201.76 1191.66 L193.45 1193.33 L193.45 1189.07 L201.713 1187.4 L206.389 1187.4 L206.389 1218.03 L214.028 1218.03 L214.028 1221.96 L194.121 1221.96 L194.121 1218.03 Z\" fill=\"#000000\" fill-rule=\"evenodd\" fill-opacity=\"1\" /><path clip-path=\"url(#clip240)\" d=\"M128.288 934.296 Q124.677 934.296 122.848 937.861 Q121.043 941.402 121.043 948.532 Q121.043 955.638 122.848 959.203 Q124.677 962.745 128.288 962.745 Q131.922 962.745 133.728 959.203 Q135.556 955.638 135.556 948.532 Q135.556 941.402 133.728 937.861 Q131.922 934.296 128.288 934.296 M128.288 930.592 Q134.098 930.592 137.154 935.199 Q140.232 939.782 140.232 948.532 Q140.232 957.259 137.154 961.865 Q134.098 966.449 128.288 966.449 Q122.478 966.449 119.399 961.865 Q116.343 957.259 116.343 948.532 Q116.343 939.782 119.399 935.199 Q122.478 930.592 128.288 930.592 Z\" fill=\"#000000\" fill-rule=\"evenodd\" fill-opacity=\"1\" /><path clip-path=\"url(#clip240)\" d=\"M148.45 959.898 L153.334 959.898 L153.334 965.777 L148.45 965.777 L148.45 959.898 Z\" fill=\"#000000\" fill-rule=\"evenodd\" fill-opacity=\"1\" /><path clip-path=\"url(#clip240)\" d=\"M167.547 961.842 L183.866 961.842 L183.866 965.777 L161.922 965.777 L161.922 961.842 Q164.584 959.087 169.167 954.458 Q173.774 949.805 174.954 948.462 Q177.2 945.939 178.079 944.203 Q178.982 942.444 178.982 940.754 Q178.982 938 177.038 936.263 Q175.116 934.527 172.014 934.527 Q169.815 934.527 167.362 935.291 Q164.931 936.055 162.153 937.606 L162.153 932.884 Q164.977 931.75 167.431 931.171 Q169.885 930.592 171.922 930.592 Q177.292 930.592 180.487 933.277 Q183.681 935.963 183.681 940.453 Q183.681 942.583 182.871 944.504 Q182.084 946.402 179.977 948.995 Q179.399 949.666 176.297 952.884 Q173.195 956.078 167.547 961.842 Z\" fill=\"#000000\" fill-rule=\"evenodd\" fill-opacity=\"1\" /><path clip-path=\"url(#clip240)\" d=\"M197.709 961.842 L214.028 961.842 L214.028 965.777 L192.084 965.777 L192.084 961.842 Q194.746 959.087 199.329 954.458 Q203.936 949.805 205.116 948.462 Q207.362 945.939 208.241 944.203 Q209.144 942.444 209.144 940.754 Q209.144 938 207.199 936.263 Q205.278 934.527 202.176 934.527 Q199.977 934.527 197.524 935.291 Q195.093 936.055 192.315 937.606 L192.315 932.884 Q195.139 931.75 197.593 931.171 Q200.047 930.592 202.084 930.592 Q207.454 930.592 210.649 933.277 Q213.843 935.963 213.843 940.453 Q213.843 942.583 213.033 944.504 Q212.246 946.402 210.139 948.995 Q209.561 949.666 206.459 952.884 Q203.357 956.078 197.709 961.842 Z\" fill=\"#000000\" fill-rule=\"evenodd\" fill-opacity=\"1\" /><path clip-path=\"url(#clip240)\" d=\"M127.339 678.111 Q123.728 678.111 121.899 681.676 Q120.093 685.218 120.093 692.347 Q120.093 699.454 121.899 703.018 Q123.728 706.56 127.339 706.56 Q130.973 706.56 132.779 703.018 Q134.607 699.454 134.607 692.347 Q134.607 685.218 132.779 681.676 Q130.973 678.111 127.339 678.111 M127.339 674.407 Q133.149 674.407 136.204 679.014 Q139.283 683.597 139.283 692.347 Q139.283 701.074 136.204 705.68 Q133.149 710.264 127.339 710.264 Q121.529 710.264 118.45 705.68 Q115.394 701.074 115.394 692.347 Q115.394 683.597 118.45 679.014 Q121.529 674.407 127.339 674.407 Z\" fill=\"#000000\" fill-rule=\"evenodd\" fill-opacity=\"1\" /><path clip-path=\"url(#clip240)\" d=\"M147.501 703.713 L152.385 703.713 L152.385 709.592 L147.501 709.592 L147.501 703.713 Z\" fill=\"#000000\" fill-rule=\"evenodd\" fill-opacity=\"1\" /><path clip-path=\"url(#clip240)\" d=\"M166.598 705.657 L182.917 705.657 L182.917 709.592 L160.973 709.592 L160.973 705.657 Q163.635 702.903 168.218 698.273 Q172.825 693.62 174.005 692.278 Q176.251 689.755 177.13 688.018 Q178.033 686.259 178.033 684.569 Q178.033 681.815 176.089 680.079 Q174.167 678.343 171.065 678.343 Q168.866 678.343 166.413 679.106 Q163.982 679.87 161.204 681.421 L161.204 676.699 Q164.028 675.565 166.482 674.986 Q168.936 674.407 170.973 674.407 Q176.343 674.407 179.538 677.093 Q182.732 679.778 182.732 684.269 Q182.732 686.398 181.922 688.319 Q181.135 690.218 179.028 692.81 Q178.45 693.481 175.348 696.699 Q172.246 699.893 166.598 705.657 Z\" fill=\"#000000\" fill-rule=\"evenodd\" fill-opacity=\"1\" /><path clip-path=\"url(#clip240)\" d=\"M206.899 690.958 Q210.255 691.676 212.13 693.944 Q214.028 696.213 214.028 699.546 Q214.028 704.662 210.51 707.463 Q206.991 710.264 200.51 710.264 Q198.334 710.264 196.019 709.824 Q193.727 709.407 191.274 708.551 L191.274 704.037 Q193.218 705.171 195.533 705.75 Q197.848 706.329 200.371 706.329 Q204.769 706.329 207.061 704.592 Q209.375 702.856 209.375 699.546 Q209.375 696.491 207.223 694.778 Q205.093 693.042 201.274 693.042 L197.246 693.042 L197.246 689.199 L201.459 689.199 Q204.908 689.199 206.737 687.833 Q208.565 686.444 208.565 683.852 Q208.565 681.19 206.667 679.778 Q204.792 678.343 201.274 678.343 Q199.352 678.343 197.153 678.759 Q194.954 679.176 192.315 680.056 L192.315 675.889 Q194.977 675.148 197.292 674.778 Q199.63 674.407 201.69 674.407 Q207.014 674.407 210.116 676.838 Q213.218 679.245 213.218 683.366 Q213.218 686.236 211.574 688.227 Q209.931 690.194 206.899 690.958 Z\" fill=\"#000000\" fill-rule=\"evenodd\" fill-opacity=\"1\" /><path clip-path=\"url(#clip240)\" d=\"M126.205 421.926 Q122.593 421.926 120.765 425.491 Q118.959 429.033 118.959 436.162 Q118.959 443.269 120.765 446.834 Q122.593 450.375 126.205 450.375 Q129.839 450.375 131.644 446.834 Q133.473 443.269 133.473 436.162 Q133.473 429.033 131.644 425.491 Q129.839 421.926 126.205 421.926 M126.205 418.223 Q132.015 418.223 135.07 422.829 Q138.149 427.412 138.149 436.162 Q138.149 444.889 135.07 449.496 Q132.015 454.079 126.205 454.079 Q120.394 454.079 117.316 449.496 Q114.26 444.889 114.26 436.162 Q114.26 427.412 117.316 422.829 Q120.394 418.223 126.205 418.223 Z\" fill=\"#000000\" fill-rule=\"evenodd\" fill-opacity=\"1\" /><path clip-path=\"url(#clip240)\" d=\"M146.366 447.528 L151.251 447.528 L151.251 453.408 L146.366 453.408 L146.366 447.528 Z\" fill=\"#000000\" fill-rule=\"evenodd\" fill-opacity=\"1\" /><path clip-path=\"url(#clip240)\" d=\"M165.464 449.473 L181.783 449.473 L181.783 453.408 L159.839 453.408 L159.839 449.473 Q162.501 446.718 167.084 442.088 Q171.69 437.436 172.871 436.093 Q175.116 433.57 175.996 431.834 Q176.899 430.074 176.899 428.385 Q176.899 425.63 174.954 423.894 Q173.033 422.158 169.931 422.158 Q167.732 422.158 165.278 422.922 Q162.848 423.686 160.07 425.237 L160.07 420.514 Q162.894 419.38 165.348 418.801 Q167.802 418.223 169.839 418.223 Q175.209 418.223 178.403 420.908 Q181.598 423.593 181.598 428.084 Q181.598 430.213 180.788 432.135 Q180.001 434.033 177.894 436.625 Q177.315 437.297 174.214 440.514 Q171.112 443.709 165.464 449.473 Z\" fill=\"#000000\" fill-rule=\"evenodd\" fill-opacity=\"1\" /><path clip-path=\"url(#clip240)\" d=\"M204.445 422.922 L192.639 441.371 L204.445 441.371 L204.445 422.922 M203.218 418.848 L209.098 418.848 L209.098 441.371 L214.028 441.371 L214.028 445.26 L209.098 445.26 L209.098 453.408 L204.445 453.408 L204.445 445.26 L188.843 445.26 L188.843 440.746 L203.218 418.848 Z\" fill=\"#000000\" fill-rule=\"evenodd\" fill-opacity=\"1\" /><path clip-path=\"url(#clip240)\" d=\"M127.686 165.742 Q124.075 165.742 122.246 169.306 Q120.441 172.848 120.441 179.978 Q120.441 187.084 122.246 190.649 Q124.075 194.191 127.686 194.191 Q131.32 194.191 133.126 190.649 Q134.954 187.084 134.954 179.978 Q134.954 172.848 133.126 169.306 Q131.32 165.742 127.686 165.742 M127.686 162.038 Q133.496 162.038 136.552 166.644 Q139.63 171.228 139.63 179.978 Q139.63 188.704 136.552 193.311 Q133.496 197.894 127.686 197.894 Q121.876 197.894 118.797 193.311 Q115.742 188.704 115.742 179.978 Q115.742 171.228 118.797 166.644 Q121.876 162.038 127.686 162.038 Z\" fill=\"#000000\" fill-rule=\"evenodd\" fill-opacity=\"1\" /><path clip-path=\"url(#clip240)\" d=\"M147.848 191.343 L152.732 191.343 L152.732 197.223 L147.848 197.223 L147.848 191.343 Z\" fill=\"#000000\" fill-rule=\"evenodd\" fill-opacity=\"1\" /><path clip-path=\"url(#clip240)\" d=\"M166.945 193.288 L183.264 193.288 L183.264 197.223 L161.32 197.223 L161.32 193.288 Q163.982 190.533 168.565 185.904 Q173.172 181.251 174.352 179.908 Q176.598 177.385 177.477 175.649 Q178.38 173.89 178.38 172.2 Q178.38 169.445 176.436 167.709 Q174.514 165.973 171.413 165.973 Q169.214 165.973 166.76 166.737 Q164.329 167.501 161.552 169.052 L161.552 164.33 Q164.376 163.195 166.829 162.617 Q169.283 162.038 171.32 162.038 Q176.69 162.038 179.885 164.723 Q183.079 167.408 183.079 171.899 Q183.079 174.029 182.269 175.95 Q181.482 177.848 179.376 180.441 Q178.797 181.112 175.695 184.329 Q172.593 187.524 166.945 193.288 Z\" fill=\"#000000\" fill-rule=\"evenodd\" fill-opacity=\"1\" /><path clip-path=\"url(#clip240)\" d=\"M193.125 162.663 L211.482 162.663 L211.482 166.598 L197.408 166.598 L197.408 175.07 Q198.426 174.723 199.445 174.561 Q200.463 174.376 201.482 174.376 Q207.269 174.376 210.649 177.547 Q214.028 180.718 214.028 186.135 Q214.028 191.714 210.556 194.816 Q207.084 197.894 200.764 197.894 Q198.588 197.894 196.32 197.524 Q194.075 197.153 191.667 196.413 L191.667 191.714 Q193.75 192.848 195.973 193.403 Q198.195 193.959 200.672 193.959 Q204.676 193.959 207.014 191.853 Q209.352 189.746 209.352 186.135 Q209.352 182.524 207.014 180.417 Q204.676 178.311 200.672 178.311 Q198.797 178.311 196.922 178.728 Q195.07 179.144 193.125 180.024 L193.125 162.663 Z\" fill=\"#000000\" fill-rule=\"evenodd\" fill-opacity=\"1\" /><path clip-path=\"url(#clip240)\" d=\"M16.4842 801.909 L16.4842 795.479 L58.5933 795.479 L58.5933 772.34 L64.0042 772.34 L64.0042 801.909 L16.4842 801.909 Z\" fill=\"#000000\" fill-rule=\"evenodd\" fill-opacity=\"1\" /><path clip-path=\"url(#clip240)\" d=\"M32.4621 753.179 Q32.4621 757.89 36.1542 760.627 Q39.8145 763.364 46.212 763.364 Q52.6095 763.364 56.3017 760.659 Q59.9619 757.922 59.9619 753.179 Q59.9619 748.5 56.2698 745.763 Q52.5777 743.026 46.212 743.026 Q39.8781 743.026 36.186 745.763 Q32.4621 748.5 32.4621 753.179 M27.4968 753.179 Q27.4968 745.54 32.4621 741.18 Q37.4273 736.819 46.212 736.819 Q54.9649 736.819 59.9619 741.18 Q64.9272 745.54 64.9272 753.179 Q64.9272 760.85 59.9619 765.21 Q54.9649 769.539 46.212 769.539 Q37.4273 769.539 32.4621 765.21 Q27.4968 760.85 27.4968 753.179 Z\" fill=\"#000000\" fill-rule=\"evenodd\" fill-opacity=\"1\" /><path clip-path=\"url(#clip240)\" d=\"M29.4065 704.386 L34.9447 704.386 Q33.6716 706.869 33.035 709.542 Q32.3984 712.216 32.3984 715.08 Q32.3984 719.441 33.7352 721.637 Q35.072 723.801 37.7456 723.801 Q39.7826 723.801 40.9603 722.242 Q42.1061 720.682 43.1565 715.972 L43.6021 713.966 Q44.9389 707.728 47.3897 705.118 Q49.8086 702.476 54.1691 702.476 Q59.1344 702.476 62.0308 706.423 Q64.9272 710.338 64.9272 717.213 Q64.9272 720.078 64.3543 723.197 Q63.8132 726.284 62.6992 729.722 L56.6518 729.722 Q58.3387 726.475 59.198 723.324 Q60.0256 720.173 60.0256 717.086 Q60.0256 712.948 58.6251 710.72 Q57.1929 708.492 54.6147 708.492 Q52.2276 708.492 50.9545 710.115 Q49.6813 711.707 48.5037 717.149 L48.0262 719.186 Q46.8804 724.629 44.5251 727.048 Q42.138 729.467 38.0002 729.467 Q32.9713 729.467 30.2341 725.902 Q27.4968 722.337 27.4968 715.781 Q27.4968 712.534 27.9743 709.67 Q28.4517 706.805 29.4065 704.386 Z\" fill=\"#000000\" fill-rule=\"evenodd\" fill-opacity=\"1\" /><path clip-path=\"url(#clip240)\" d=\"M29.4065 670.425 L34.9447 670.425 Q33.6716 672.908 33.035 675.581 Q32.3984 678.255 32.3984 681.119 Q32.3984 685.48 33.7352 687.676 Q35.072 689.84 37.7456 689.84 Q39.7826 689.84 40.9603 688.281 Q42.1061 686.721 43.1565 682.011 L43.6021 680.005 Q44.9389 673.767 47.3897 671.157 Q49.8086 668.515 54.1691 668.515 Q59.1344 668.515 62.0308 672.462 Q64.9272 676.377 64.9272 683.252 Q64.9272 686.116 64.3543 689.236 Q63.8132 692.323 62.6992 695.761 L56.6518 695.761 Q58.3387 692.514 59.198 689.363 Q60.0256 686.212 60.0256 683.125 Q60.0256 678.987 58.6251 676.759 Q57.1929 674.531 54.6147 674.531 Q52.2276 674.531 50.9545 676.154 Q49.6813 677.746 48.5037 683.188 L48.0262 685.225 Q46.8804 690.668 44.5251 693.087 Q42.138 695.506 38.0002 695.506 Q32.9713 695.506 30.2341 691.941 Q27.4968 688.376 27.4968 681.82 Q27.4968 678.573 27.9743 675.709 Q28.4517 672.844 29.4065 670.425 Z\" fill=\"#000000\" fill-rule=\"evenodd\" fill-opacity=\"1\" /><polyline clip-path=\"url(#clip242)\" style=\"stroke:#009af9; stroke-linecap:butt; stroke-linejoin:round; stroke-width:4; stroke-opacity:1; fill:none\" points=\"\n",
       "  309.539,86.1857 311.525,209.172 313.511,311.537 315.496,400.011 317.482,476.936 319.468,543.515 321.453,600.606 323.439,648.991 325.425,689.485 327.411,722.957 \n",
       "  329.396,750.33 331.382,772.545 333.368,790.524 335.353,805.14 337.339,817.192 339.325,827.391 341.31,836.343 343.296,844.546 345.282,852.391 347.267,860.163 \n",
       "  349.253,868.057 351.239,876.183 353.225,884.583 355.21,893.243 357.196,902.108 359.182,911.094 361.167,920.102 363.153,929.025 365.139,937.764 367.124,946.23 \n",
       "  369.11,954.355 371.096,962.095 373.081,969.428 375.067,976.36 377.053,982.915 379.038,989.139 381.024,995.085 383.01,1000.81 384.996,1006.39 386.981,1011.86 \n",
       "  388.967,1017.27 390.953,1022.65 392.938,1028.02 394.924,1033.38 396.91,1038.73 398.895,1044.06 400.881,1049.33 402.867,1054.55 404.852,1059.68 406.838,1064.71 \n",
       "  408.824,1069.63 410.81,1074.45 412.795,1079.15 414.781,1083.75 416.767,1088.24 418.752,1092.64 420.738,1096.95 422.724,1101.18 424.709,1105.34 426.695,1109.42 \n",
       "  428.681,1113.43 430.666,1117.37 432.652,1121.22 434.638,1125 436.624,1128.7 438.609,1132.31 440.595,1135.83 442.581,1139.27 444.566,1142.62 446.552,1145.89 \n",
       "  448.538,1149.08 450.523,1152.19 452.509,1155.23 454.495,1158.18 456.48,1161.07 458.466,1163.87 460.452,1166.61 462.438,1169.28 464.423,1171.87 466.409,1174.4 \n",
       "  468.395,1176.86 470.38,1179.25 472.366,1181.58 474.352,1183.85 476.337,1186.06 478.323,1188.21 480.309,1190.3 482.294,1192.35 484.28,1194.34 486.266,1196.29 \n",
       "  488.252,1198.18 490.237,1200.04 492.223,1201.85 494.209,1203.62 496.194,1205.35 498.18,1207.04 500.166,1208.69 502.151,1210.32 504.137,1211.91 506.123,1213.47 \n",
       "  508.108,1215 510.094,1216.5 512.08,1217.97 514.065,1219.42 516.051,1220.84 518.037,1222.24 520.023,1223.61 522.008,1224.97 523.994,1226.3 525.98,1227.61 \n",
       "  527.965,1228.9 529.951,1230.17 531.937,1231.42 533.922,1232.65 535.908,1233.87 537.894,1235.06 539.879,1236.24 541.865,1237.4 543.851,1238.55 545.837,1239.68 \n",
       "  547.822,1240.79 549.808,1241.88 551.794,1242.96 553.779,1244.02 555.765,1245.06 557.751,1246.09 559.736,1247.1 561.722,1248.1 563.708,1249.08 565.693,1250.05 \n",
       "  567.679,1250.99 569.665,1251.93 571.651,1252.84 573.636,1253.74 575.622,1254.63 577.608,1255.5 579.593,1256.35 581.579,1257.19 583.565,1258.01 585.55,1258.82 \n",
       "  587.536,1259.61 589.522,1260.39 591.507,1261.15 593.493,1261.89 595.479,1262.62 597.465,1263.34 599.45,1264.04 601.436,1264.72 603.422,1265.39 605.407,1266.05 \n",
       "  607.393,1266.69 609.379,1267.31 611.364,1267.93 613.35,1268.52 615.336,1269.11 617.321,1269.68 619.307,1270.23 621.293,1270.77 623.279,1271.3 625.264,1271.82 \n",
       "  627.25,1272.32 629.236,1272.81 631.221,1273.29 633.207,1273.75 635.193,1274.2 637.178,1274.64 639.164,1275.07 641.15,1275.49 643.135,1275.89 645.121,1276.29 \n",
       "  647.107,1276.67 649.092,1277.04 651.078,1277.4 653.064,1277.75 655.05,1278.09 657.035,1278.42 659.021,1278.75 661.007,1279.06 662.992,1279.36 664.978,1279.65 \n",
       "  666.964,1279.94 668.949,1280.22 670.935,1280.48 672.921,1280.75 674.906,1281 676.892,1281.24 678.878,1281.48 680.864,1281.71 682.849,1281.94 684.835,1282.15 \n",
       "  686.821,1282.36 688.806,1282.57 690.792,1282.77 692.778,1282.96 694.763,1283.15 696.749,1283.33 698.735,1283.51 700.72,1283.68 702.706,1283.85 704.692,1284.01 \n",
       "  706.678,1284.17 708.663,1284.33 710.649,1284.48 712.635,1284.62 714.62,1284.77 716.606,1284.91 718.592,1285.04 720.577,1285.18 722.563,1285.31 724.549,1285.44 \n",
       "  726.534,1285.56 728.52,1285.68 730.506,1285.8 732.492,1285.92 734.477,1286.04 736.463,1286.15 738.449,1286.26 740.434,1286.37 742.42,1286.48 744.406,1286.58 \n",
       "  746.391,1286.69 748.377,1286.79 750.363,1286.89 752.348,1287 754.334,1287.1 756.32,1287.19 758.305,1287.29 760.291,1287.39 762.277,1287.48 764.263,1287.58 \n",
       "  766.248,1287.67 768.234,1287.77 770.22,1287.86 772.205,1287.95 774.191,1288.04 776.177,1288.14 778.162,1288.23 780.148,1288.32 782.134,1288.41 784.119,1288.5 \n",
       "  786.105,1288.59 788.091,1288.68 790.077,1288.77 792.062,1288.86 794.048,1288.95 796.034,1289.03 798.019,1289.12 800.005,1289.21 801.991,1289.3 803.976,1289.39 \n",
       "  805.962,1289.48 807.948,1289.57 809.933,1289.66 811.919,1289.75 813.905,1289.84 815.891,1289.92 817.876,1290.01 819.862,1290.1 821.848,1290.19 823.833,1290.28 \n",
       "  825.819,1290.37 827.805,1290.46 829.79,1290.55 831.776,1290.65 833.762,1290.74 835.747,1290.83 837.733,1290.92 839.719,1291.01 841.705,1291.1 843.69,1291.2 \n",
       "  845.676,1291.29 847.662,1291.38 849.647,1291.47 851.633,1291.57 853.619,1291.66 855.604,1291.75 857.59,1291.85 859.576,1291.94 861.561,1292.04 863.547,1292.13 \n",
       "  865.533,1292.23 867.519,1292.32 869.504,1292.42 871.49,1292.52 873.476,1292.61 875.461,1292.71 877.447,1292.81 879.433,1292.91 881.418,1293 883.404,1293.1 \n",
       "  885.39,1293.2 887.375,1293.3 889.361,1293.4 891.347,1293.5 893.332,1293.6 895.318,1293.7 897.304,1293.8 899.29,1293.9 901.275,1294 903.261,1294.11 \n",
       "  905.247,1294.21 907.232,1294.31 909.218,1294.41 911.204,1294.52 913.189,1294.62 915.175,1294.73 917.161,1294.83 919.146,1294.94 921.132,1295.04 923.118,1295.15 \n",
       "  925.104,1295.25 927.089,1295.36 929.075,1295.47 931.061,1295.58 933.046,1295.68 935.032,1295.79 937.018,1295.9 939.003,1296.01 940.989,1296.12 942.975,1296.23 \n",
       "  944.96,1296.34 946.946,1296.45 948.932,1296.56 950.918,1296.68 952.903,1296.79 954.889,1296.9 956.875,1297.02 958.86,1297.13 960.846,1297.24 962.832,1297.36 \n",
       "  964.817,1297.47 966.803,1297.59 968.789,1297.7 970.774,1297.82 972.76,1297.94 974.746,1298.06 976.732,1298.17 978.717,1298.29 980.703,1298.41 982.689,1298.53 \n",
       "  984.674,1298.65 986.66,1298.77 988.646,1298.89 990.631,1299.01 992.617,1299.13 994.603,1299.26 996.588,1299.38 998.574,1299.5 1000.56,1299.62 1002.55,1299.75 \n",
       "  1004.53,1299.87 1006.52,1300 1008.5,1300.12 1010.49,1300.25 1012.47,1300.38 1014.46,1300.5 1016.45,1300.63 1018.43,1300.76 1020.42,1300.89 1022.4,1301.02 \n",
       "  1024.39,1301.15 1026.37,1301.28 1028.36,1301.41 1030.35,1301.54 1032.33,1301.67 1034.32,1301.8 1036.3,1301.94 1038.29,1302.07 1040.27,1302.2 1042.26,1302.34 \n",
       "  1044.25,1302.47 1046.23,1302.61 1048.22,1302.74 1050.2,1302.88 1052.19,1303.02 1054.17,1303.15 1056.16,1303.29 1058.14,1303.43 1060.13,1303.57 1062.12,1303.71 \n",
       "  1064.1,1303.85 1066.09,1303.99 1068.07,1304.13 1070.06,1304.27 1072.04,1304.41 1074.03,1304.56 1076.02,1304.7 1078,1304.84 1079.99,1304.99 1081.97,1305.13 \n",
       "  1083.96,1305.28 1085.94,1305.42 1087.93,1305.57 1089.92,1305.71 1091.9,1305.86 1093.89,1306.01 1095.87,1306.16 1097.86,1306.31 1099.84,1306.45 1101.83,1306.6 \n",
       "  1103.82,1306.76 1105.8,1306.91 1107.79,1307.06 1109.77,1307.21 1111.76,1307.36 1113.74,1307.51 1115.73,1307.67 1117.72,1307.82 1119.7,1307.98 1121.69,1308.13 \n",
       "  1123.67,1308.29 1125.66,1308.44 1127.64,1308.6 1129.63,1308.76 1131.62,1308.91 1133.6,1309.07 1135.59,1309.23 1137.57,1309.39 1139.56,1309.55 1141.54,1309.71 \n",
       "  1143.53,1309.87 1145.52,1310.03 1147.5,1310.19 1149.49,1310.35 1151.47,1310.52 1153.46,1310.68 1155.44,1310.84 1157.43,1311.01 1159.42,1311.17 1161.4,1311.34 \n",
       "  1163.39,1311.5 1165.37,1311.67 1167.36,1311.83 1169.34,1312 1171.33,1312.17 1173.31,1312.34 1175.3,1312.5 1177.29,1312.67 1179.27,1312.84 1181.26,1313.01 \n",
       "  1183.24,1313.18 1185.23,1313.35 1187.21,1313.53 1189.2,1313.7 1191.19,1313.87 1193.17,1314.04 1195.16,1314.22 1197.14,1314.39 1199.13,1314.57 1201.11,1314.74 \n",
       "  1203.1,1314.92 1205.09,1315.09 1207.07,1315.27 1209.06,1315.44 1211.04,1315.62 1213.03,1315.8 1215.01,1315.98 1217,1316.16 1218.99,1316.33 1220.97,1316.51 \n",
       "  1222.96,1316.69 1224.94,1316.87 1226.93,1317.06 1228.91,1317.24 1230.9,1317.42 1232.89,1317.6 1234.87,1317.78 1236.86,1317.97 1238.84,1318.15 1240.83,1318.34 \n",
       "  1242.81,1318.52 1244.8,1318.7 1246.79,1318.89 1248.77,1319.08 1250.76,1319.26 1252.74,1319.45 1254.73,1319.64 1256.71,1319.82 1258.7,1320.01 1260.69,1320.2 \n",
       "  1262.67,1320.39 1264.66,1320.58 1266.64,1320.77 1268.63,1320.96 1270.61,1321.15 1272.6,1321.34 1274.59,1321.53 1276.57,1321.72 1278.56,1321.91 1280.54,1322.1 \n",
       "  1282.53,1322.3 1284.51,1322.49 1286.5,1322.68 1288.49,1322.88 1290.47,1323.07 1292.46,1323.26 1294.44,1323.46 1296.43,1323.65 1298.41,1323.85 1300.4,1324.04 \n",
       "  1302.38,1324.24 1304.37,1324.43 1306.36,1324.63 1308.34,1324.83 1310.33,1325.02 1312.31,1325.22 1314.3,1325.42 1316.28,1325.62 1318.27,1325.81 1320.26,1326.01 \n",
       "  1322.24,1326.21 1324.23,1326.41 1326.21,1326.61 1328.2,1326.8 1330.18,1327 1332.17,1327.2 1334.16,1327.4 1336.14,1327.6 1338.13,1327.8 1340.11,1328 \n",
       "  1342.1,1328.2 1344.08,1328.4 1346.07,1328.6 1348.06,1328.8 1350.04,1329 1352.03,1329.2 1354.01,1329.4 1356,1329.6 1357.98,1329.8 1359.97,1330 \n",
       "  1361.96,1330.2 1363.94,1330.4 1365.93,1330.6 1367.91,1330.8 1369.9,1331 1371.88,1331.2 1373.87,1331.4 1375.86,1331.6 1377.84,1331.79 1379.83,1331.99 \n",
       "  1381.81,1332.19 1383.8,1332.39 1385.78,1332.59 1387.77,1332.79 1389.76,1332.99 1391.74,1333.19 1393.73,1333.38 1395.71,1333.58 1397.7,1333.78 1399.68,1333.98 \n",
       "  1401.67,1334.17 1403.66,1334.37 1405.64,1334.56 1407.63,1334.76 1409.61,1334.96 1411.6,1335.15 1413.58,1335.35 1415.57,1335.54 1417.55,1335.73 1419.54,1335.93 \n",
       "  1421.53,1336.12 1423.51,1336.31 1425.5,1336.5 1427.48,1336.7 1429.47,1336.89 1431.45,1337.08 1433.44,1337.27 1435.43,1337.46 1437.41,1337.64 1439.4,1337.83 \n",
       "  1441.38,1338.02 1443.37,1338.21 1445.35,1338.39 1447.34,1338.58 1449.33,1338.77 1451.31,1338.95 1453.3,1339.13 1455.28,1339.32 1457.27,1339.5 1459.25,1339.68 \n",
       "  1461.24,1339.86 1463.23,1340.04 1465.21,1340.22 1467.2,1340.4 1469.18,1340.58 1471.17,1340.76 1473.15,1340.93 1475.14,1341.11 1477.13,1341.28 1479.11,1341.46 \n",
       "  1481.1,1341.63 1483.08,1341.8 1485.07,1341.97 1487.05,1342.14 1489.04,1342.31 1491.03,1342.48 1493.01,1342.65 1495,1342.82 1496.98,1342.98 1498.97,1343.15 \n",
       "  1500.95,1343.31 1502.94,1343.48 1504.93,1343.64 1506.91,1343.8 1508.9,1343.96 1510.88,1344.12 1512.87,1344.28 1514.85,1344.44 1516.84,1344.59 1518.83,1344.75 \n",
       "  1520.81,1344.91 1522.8,1345.06 1524.78,1345.21 1526.77,1345.36 1528.75,1345.52 1530.74,1345.67 1532.73,1345.82 1534.71,1345.96 1536.7,1346.11 1538.68,1346.26 \n",
       "  1540.67,1346.4 1542.65,1346.55 1544.64,1346.69 1546.62,1346.83 1548.61,1346.97 1550.6,1347.11 1552.58,1347.25 1554.57,1347.39 1556.55,1347.53 1558.54,1347.67 \n",
       "  1560.52,1347.8 1562.51,1347.94 1564.5,1348.07 1566.48,1348.2 1568.47,1348.34 1570.45,1348.47 1572.44,1348.6 1574.42,1348.73 1576.41,1348.85 1578.4,1348.98 \n",
       "  1580.38,1349.11 1582.37,1349.23 1584.35,1349.36 1586.34,1349.48 1588.32,1349.6 1590.31,1349.73 1592.3,1349.85 1594.28,1349.97 1596.27,1350.09 1598.25,1350.21 \n",
       "  1600.24,1350.32 1602.22,1350.44 1604.21,1350.56 1606.2,1350.67 1608.18,1350.79 1610.17,1350.9 1612.15,1351.01 1614.14,1351.13 1616.12,1351.24 1618.11,1351.35 \n",
       "  1620.1,1351.46 1622.08,1351.57 1624.07,1351.68 1626.05,1351.78 1628.04,1351.89 1630.02,1352 1632.01,1352.1 1634,1352.21 1635.98,1352.31 1637.97,1352.42 \n",
       "  1639.95,1352.52 1641.94,1352.62 1643.92,1352.72 1645.91,1352.83 1647.9,1352.93 1649.88,1353.03 1651.87,1353.13 1653.85,1353.22 1655.84,1353.32 1657.82,1353.42 \n",
       "  1659.81,1353.52 1661.79,1353.62 1663.78,1353.71 1665.77,1353.81 1667.75,1353.9 1669.74,1354 1671.72,1354.09 1673.71,1354.18 1675.69,1354.28 1677.68,1354.37 \n",
       "  1679.67,1354.46 1681.65,1354.56 1683.64,1354.65 1685.62,1354.74 1687.61,1354.83 1689.59,1354.92 1691.58,1355.01 1693.57,1355.1 1695.55,1355.19 1697.54,1355.28 \n",
       "  1699.52,1355.36 1701.51,1355.45 1703.49,1355.54 1705.48,1355.63 1707.47,1355.71 1709.45,1355.8 1711.44,1355.89 1713.42,1355.97 1715.41,1356.06 1717.39,1356.15 \n",
       "  1719.38,1356.23 1721.37,1356.32 1723.35,1356.4 1725.34,1356.49 1727.32,1356.57 1729.31,1356.65 1731.29,1356.74 1733.28,1356.82 1735.27,1356.91 1737.25,1356.99 \n",
       "  1739.24,1357.07 1741.22,1357.15 1743.21,1357.24 1745.19,1357.32 1747.18,1357.4 1749.17,1357.48 1751.15,1357.57 1753.14,1357.65 1755.12,1357.73 1757.11,1357.81 \n",
       "  1759.09,1357.89 1761.08,1357.98 1763.07,1358.06 1765.05,1358.14 1767.04,1358.22 1769.02,1358.3 1771.01,1358.38 1772.99,1358.46 1774.98,1358.54 1776.97,1358.62 \n",
       "  1778.95,1358.71 1780.94,1358.79 1782.92,1358.87 1784.91,1358.95 1786.89,1359.03 1788.88,1359.11 1790.86,1359.19 1792.85,1359.27 1794.84,1359.35 1796.82,1359.43 \n",
       "  1798.81,1359.51 1800.79,1359.59 1802.78,1359.67 1804.76,1359.75 1806.75,1359.83 1808.74,1359.91 1810.72,1359.99 1812.71,1360.07 1814.69,1360.15 1816.68,1360.23 \n",
       "  1818.66,1360.31 1820.65,1360.39 1822.64,1360.47 1824.62,1360.55 1826.61,1360.63 1828.59,1360.72 1830.58,1360.8 1832.56,1360.88 1834.55,1360.96 1836.54,1361.04 \n",
       "  1838.52,1361.12 1840.51,1361.2 1842.49,1361.28 1844.48,1361.36 1846.46,1361.44 1848.45,1361.52 1850.44,1361.61 1852.42,1361.69 1854.41,1361.77 1856.39,1361.85 \n",
       "  1858.38,1361.93 1860.36,1362.01 1862.35,1362.09 1864.34,1362.18 1866.32,1362.26 1868.31,1362.34 1870.29,1362.42 1872.28,1362.5 1874.26,1362.59 1876.25,1362.67 \n",
       "  1878.24,1362.75 1880.22,1362.83 1882.21,1362.92 1884.19,1363 1886.18,1363.08 1888.16,1363.17 1890.15,1363.25 1892.14,1363.33 1894.12,1363.42 1896.11,1363.5 \n",
       "  1898.09,1363.58 1900.08,1363.67 1902.06,1363.75 1904.05,1363.84 1906.03,1363.92 1908.02,1364.01 1910.01,1364.09 1911.99,1364.18 1913.98,1364.26 1915.96,1364.35 \n",
       "  1917.95,1364.43 1919.93,1364.52 1921.92,1364.6 1923.91,1364.69 1925.89,1364.77 1927.88,1364.86 1929.86,1364.95 1931.85,1365.03 1933.83,1365.12 1935.82,1365.2 \n",
       "  1937.81,1365.29 1939.79,1365.38 1941.78,1365.47 1943.76,1365.55 1945.75,1365.64 1947.73,1365.73 1949.72,1365.82 1951.71,1365.9 1953.69,1365.99 1955.68,1366.08 \n",
       "  1957.66,1366.17 1959.65,1366.26 1961.63,1366.35 1963.62,1366.44 1965.61,1366.53 1967.59,1366.62 1969.58,1366.7 1971.56,1366.79 1973.55,1366.88 1975.53,1366.98 \n",
       "  1977.52,1367.07 1979.51,1367.16 1981.49,1367.25 1983.48,1367.34 1985.46,1367.43 1987.45,1367.52 1989.43,1367.61 1991.42,1367.7 1993.41,1367.8 1995.39,1367.89 \n",
       "  1997.38,1367.98 1999.36,1368.07 2001.35,1368.17 2003.33,1368.26 2005.32,1368.35 2007.31,1368.45 2009.29,1368.54 2011.28,1368.63 2013.26,1368.73 2015.25,1368.82 \n",
       "  2017.23,1368.92 2019.22,1369.01 2021.21,1369.11 2023.19,1369.2 2025.18,1369.3 2027.16,1369.39 2029.15,1369.49 2031.13,1369.58 2033.12,1369.68 2035.1,1369.78 \n",
       "  2037.09,1369.87 2039.08,1369.97 2041.06,1370.07 2043.05,1370.17 2045.03,1370.26 2047.02,1370.36 2049,1370.46 2050.99,1370.56 2052.98,1370.66 2054.96,1370.75 \n",
       "  2056.95,1370.85 2058.93,1370.95 2060.92,1371.05 2062.9,1371.15 2064.89,1371.25 2066.88,1371.35 2068.86,1371.45 2070.85,1371.55 2072.83,1371.65 2074.82,1371.75 \n",
       "  2076.8,1371.85 2078.79,1371.96 2080.78,1372.06 2082.76,1372.16 2084.75,1372.26 2086.73,1372.36 2088.72,1372.47 2090.7,1372.57 2092.69,1372.67 2094.68,1372.78 \n",
       "  2096.66,1372.88 2098.65,1372.98 2100.63,1373.09 2102.62,1373.19 2104.6,1373.3 2106.59,1373.4 2108.58,1373.51 2110.56,1373.61 2112.55,1373.72 2114.53,1373.82 \n",
       "  2116.52,1373.93 2118.5,1374.03 2120.49,1374.14 2122.48,1374.25 2124.46,1374.35 2126.45,1374.46 2128.43,1374.57 2130.42,1374.68 2132.4,1374.78 2134.39,1374.89 \n",
       "  2136.38,1375 2138.36,1375.11 2140.35,1375.22 2142.33,1375.33 2144.32,1375.44 2146.3,1375.54 2148.29,1375.65 2150.27,1375.76 2152.26,1375.87 2154.25,1375.98 \n",
       "  2156.23,1376.1 2158.22,1376.21 2160.2,1376.32 2162.19,1376.43 2164.17,1376.54 2166.16,1376.65 2168.15,1376.76 2170.13,1376.88 2172.12,1376.99 2174.1,1377.1 \n",
       "  2176.09,1377.21 2178.07,1377.33 2180.06,1377.44 2182.05,1377.55 2184.03,1377.67 2186.02,1377.78 2188,1377.9 2189.99,1378.01 2191.97,1378.12 2193.96,1378.24 \n",
       "  2195.95,1378.35 2197.93,1378.47 2199.92,1378.59 2201.9,1378.7 2203.89,1378.82 2205.87,1378.93 2207.86,1379.05 2209.85,1379.17 2211.83,1379.28 2213.82,1379.4 \n",
       "  2215.8,1379.52 2217.79,1379.63 2219.77,1379.75 2221.76,1379.87 2223.75,1379.99 2225.73,1380.11 2227.72,1380.22 2229.7,1380.34 2231.69,1380.46 2233.67,1380.58 \n",
       "  2235.66,1380.7 2237.65,1380.82 2239.63,1380.94 2241.62,1381.06 2243.6,1381.18 2245.59,1381.3 2247.57,1381.42 2249.56,1381.54 2251.55,1381.66 2253.53,1381.78 \n",
       "  2255.52,1381.9 2257.5,1382.02 2259.49,1382.15 2261.47,1382.27 2263.46,1382.39 2265.45,1382.51 2267.43,1382.63 2269.42,1382.76 2271.4,1382.88 2273.39,1383 \n",
       "  2275.37,1383.12 2277.36,1383.25 2279.34,1383.37 2281.33,1383.49 2283.32,1383.62 2285.3,1383.74 2287.29,1383.87 2289.27,1383.99 2291.26,1384.11 2293.24,1384.24 \n",
       "  \n",
       "  \"/>\n",
       "<path clip-path=\"url(#clip240)\" d=\"\n",
       "M1996.6 196.789 L2282.66 196.789 L2282.66 93.1086 L1996.6 93.1086  Z\n",
       "  \" fill=\"#ffffff\" fill-rule=\"evenodd\" fill-opacity=\"1\"/>\n",
       "<polyline clip-path=\"url(#clip240)\" style=\"stroke:#000000; stroke-linecap:butt; stroke-linejoin:round; stroke-width:4; stroke-opacity:1; fill:none\" points=\"\n",
       "  1996.6,196.789 2282.66,196.789 2282.66,93.1086 1996.6,93.1086 1996.6,196.789 \n",
       "  \"/>\n",
       "<polyline clip-path=\"url(#clip240)\" style=\"stroke:#009af9; stroke-linecap:butt; stroke-linejoin:round; stroke-width:4; stroke-opacity:1; fill:none\" points=\"\n",
       "  2019.96,144.949 2160.14,144.949 \n",
       "  \"/>\n",
       "<path clip-path=\"url(#clip240)\" d=\"M2197.35 164.636 Q2195.54 169.266 2193.83 170.678 Q2192.12 172.09 2189.25 172.09 L2185.85 172.09 L2185.85 168.525 L2188.35 168.525 Q2190.1 168.525 2191.08 167.692 Q2192.05 166.858 2193.23 163.756 L2193.99 161.812 L2183.51 136.303 L2188.02 136.303 L2196.12 156.581 L2204.22 136.303 L2208.74 136.303 L2197.35 164.636 Z\" fill=\"#000000\" fill-rule=\"evenodd\" fill-opacity=\"1\" /><path clip-path=\"url(#clip240)\" d=\"M2216.03 158.293 L2223.67 158.293 L2223.67 131.928 L2215.36 133.595 L2215.36 129.335 L2223.62 127.669 L2228.3 127.669 L2228.3 158.293 L2235.94 158.293 L2235.94 162.229 L2216.03 162.229 L2216.03 158.293 Z\" fill=\"#000000\" fill-rule=\"evenodd\" fill-opacity=\"1\" /></svg>\n"
      ]
     },
     "metadata": {},
     "output_type": "display_data"
    }
   ],
   "source": [
    "gr()\n",
    "display(plot(1:N, epochs, xlabel = \"Epochs\", ylabel = \"Loss\"))"
   ]
  },
  {
   "cell_type": "markdown",
   "id": "cfffcc09",
   "metadata": {},
   "source": [
    "Once trained, our model that generates the predictions assigns a 1 (at least one claim has occured) to all output values from the sigmoid output function greater than 0.5 and zero otherwise (no claim has occured)."
   ]
  },
  {
   "cell_type": "code",
   "execution_count": 20,
   "id": "7f4c02df",
   "metadata": {
    "ExecuteTime": {
     "end_time": "2022-07-16T00:34:47.652000+02:00",
     "start_time": "2022-07-15T22:26:03.342Z"
    }
   },
   "outputs": [
    {
     "data": {
      "text/plain": [
       "predict (generic function with 1 method)"
      ]
     },
     "execution_count": 20,
     "metadata": {},
     "output_type": "execute_result"
    }
   ],
   "source": [
    "predict(x) = model(x) .> 0.5"
   ]
  },
  {
   "cell_type": "code",
   "execution_count": 21,
   "id": "64ea9003",
   "metadata": {
    "ExecuteTime": {
     "end_time": "2022-07-16T00:34:47.800000+02:00",
     "start_time": "2022-07-15T22:26:03.343Z"
    }
   },
   "outputs": [
    {
     "data": {
      "text/plain": [
       "confusion_matrix (generic function with 1 method)"
      ]
     },
     "execution_count": 21,
     "metadata": {},
     "output_type": "execute_result"
    }
   ],
   "source": [
    "function confusion_matrix(y, ŷ)::Matrix\n",
    "## Purpose: Generates a confusion matrix for binary target variables\n",
    "## Input: A vector of actuals and a vector of predictions\n",
    "## Outpus: Returns a 2x2 matrix\n",
    "    C = zeros(2, 2)\n",
    "    for i ∈ 0:1\n",
    "        for j ∈ 0:1\n",
    "            C[i+1, j+1] = sum((y .== i) .& (ŷ .== j))\n",
    "        end\n",
    "    end\n",
    "    return C\n",
    "end"
   ]
  },
  {
   "cell_type": "code",
   "execution_count": 22,
   "id": "f4df141e",
   "metadata": {
    "ExecuteTime": {
     "end_time": "2022-07-16T00:34:47.950000+02:00",
     "start_time": "2022-07-15T22:26:03.345Z"
    }
   },
   "outputs": [
    {
     "data": {
      "text/plain": [
       "metrics (generic function with 1 method)"
      ]
     },
     "execution_count": 22,
     "metadata": {},
     "output_type": "execute_result"
    }
   ],
   "source": [
    "function metrics(C::Matrix)\n",
    "## Purpose: Returns a tuple of standard performance metrics for binary classification using a confusion matrix\n",
    "## Input: A 2x2 confusion matrix\n",
    "## Output: A named tuple\n",
    "    accuracy = (C[1, 1]+C[2, 2])/(C[1, 1]+C[1, 2]+C[2, 1]+C[2, 2])\n",
    "    precision = C[1, 1]/(C[1, 1]+C[2, 1])\n",
    "    recall = C[1, 1]/(C[1, 1]+C[1, 2])\n",
    "    F1_score = 2*(precision*recall)/(precision+recall)\n",
    "    return (Accuracy = accuracy, Precision = precision, Recall = recall, F1_Score = F1_score)\n",
    "end"
   ]
  },
  {
   "cell_type": "markdown",
   "id": "b0ce23c4",
   "metadata": {},
   "source": [
    "Our final model can now be validated on unseen testing data:"
   ]
  },
  {
   "cell_type": "code",
   "execution_count": 23,
   "id": "ed2ad9a8",
   "metadata": {
    "ExecuteTime": {
     "end_time": "2022-07-16T00:34:49.115000+02:00",
     "start_time": "2022-07-15T22:26:03.350Z"
    }
   },
   "outputs": [
    {
     "name": "stdout",
     "output_type": "stream",
     "text": [
      "Predict on unseen data...\n"
     ]
    }
   ],
   "source": [
    "println(\"Predict on unseen data...\")\n",
    "CM = confusion_matrix(test_y', predict(test_X'));"
   ]
  },
  {
   "cell_type": "code",
   "execution_count": 24,
   "id": "06016b27",
   "metadata": {
    "ExecuteTime": {
     "end_time": "2022-07-16T00:34:51.272000+02:00",
     "start_time": "2022-07-15T22:26:03.351Z"
    }
   },
   "outputs": [
    {
     "name": "stdout",
     "output_type": "stream",
     "text": [
      "metrics(CM) = (Accuracy = 0.8603920027508964, Precision = 0.9349289048084228, Recall = 0.91293057763646, F1_Score = 0.9237987987987988)\n"
     ]
    },
    {
     "data": {
      "text/plain": [
       "2×2 Matrix{Float64}:\n",
       " 17227.0  1643.0\n",
       "  1199.0   288.0"
      ]
     },
     "metadata": {},
     "output_type": "display_data"
    }
   ],
   "source": [
    "@show metrics(CM)\n",
    "display(CM)"
   ]
  }
 ],
 "metadata": {
  "kernelspec": {
   "display_name": "Julia 1.7.3",
   "language": "julia",
   "name": "julia-1.7"
  },
  "language_info": {
   "file_extension": ".jl",
   "mimetype": "application/julia",
   "name": "julia",
   "version": "1.7.3"
  }
 },
 "nbformat": 4,
 "nbformat_minor": 5
}
